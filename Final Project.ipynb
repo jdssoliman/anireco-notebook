{
 "cells": [
  {
   "cell_type": "code",
   "execution_count": 3,
   "id": "50473a75-86ca-4493-8b0b-6a4f2657efc1",
   "metadata": {
    "execution": {
     "iopub.execute_input": "2024-03-15T09:55:29.478146Z",
     "iopub.status.busy": "2024-03-15T09:55:29.477561Z",
     "iopub.status.idle": "2024-03-15T09:55:29.495138Z",
     "shell.execute_reply": "2024-03-15T09:55:29.493486Z",
     "shell.execute_reply.started": "2024-03-15T09:55:29.478097Z"
    },
    "tags": []
   },
   "outputs": [
    {
     "data": {
      "text/html": [
       "\n",
       "    <script\n",
       "        src='https://cdnjs.cloudflare.com/ajax/libs/jquery/2.0.3/jquery.min.js'>\n",
       "    </script>\n",
       "    <script>\n",
       "        code_show=true;\n",
       "        function code_toggle() {\n",
       "        if (code_show){\n",
       "        $('div.jp-CodeCell > div.jp-Cell-inputWrapper').hide();\n",
       "        } else {\n",
       "        $('div.jp-CodeCell > div.jp-Cell-inputWrapper').show();\n",
       "        }\n",
       "        code_show = !code_show\n",
       "        }\n",
       "        $( document ).ready(code_toggle);\n",
       "    </script>\n",
       "    <form action='javascript:code_toggle()'>\n",
       "        <input type=\"submit\" value='Click here to toggle on/off the raw code.'>\n",
       "    </form>\n",
       "    "
      ],
      "text/plain": [
       "<IPython.core.display.HTML object>"
      ]
     },
     "execution_count": 3,
     "metadata": {},
     "output_type": "execute_result"
    }
   ],
   "source": [
    "from IPython.display import display, HTML\n",
    "HTML(\n",
    "    \"\"\"\n",
    "    <script\n",
    "        src='https://cdnjs.cloudflare.com/ajax/libs/jquery/2.0.3/jquery.min.js'>\n",
    "    </script>\n",
    "    <script>\n",
    "        code_show=true;\n",
    "        function code_toggle() {\n",
    "        if (code_show){\n",
    "        $('div.jp-CodeCell > div.jp-Cell-inputWrapper').hide();\n",
    "        } else {\n",
    "        $('div.jp-CodeCell > div.jp-Cell-inputWrapper').show();\n",
    "        }\n",
    "        code_show = !code_show\n",
    "        }\n",
    "        $( document ).ready(code_toggle);\n",
    "    </script>\n",
    "    <form action='javascript:code_toggle()'>\n",
    "        <input type=\"submit\" value='Click here to toggle on/off the raw code.'>\n",
    "    </form>\n",
    "    \"\"\"\n",
    ")"
   ]
  },
  {
   "cell_type": "code",
   "execution_count": 4,
   "id": "506e5942-ed29-4b33-9346-c973d7f5346d",
   "metadata": {
    "execution": {
     "iopub.execute_input": "2024-03-15T09:55:35.168935Z",
     "iopub.status.busy": "2024-03-15T09:55:35.168200Z",
     "iopub.status.idle": "2024-03-15T09:55:36.926316Z",
     "shell.execute_reply": "2024-03-15T09:55:36.924434Z",
     "shell.execute_reply.started": "2024-03-15T09:55:35.168871Z"
    },
    "tags": []
   },
   "outputs": [],
   "source": [
    "import matplotlib.pyplot as plt\n",
    "import numpy as np\n",
    "import pandas as pd\n",
    "\n",
    "from surprise import Dataset, Reader\n",
    "from surprise.model_selection import train_test_split\n",
    "from surprise import KNNBasic\n",
    "from surprise import accuracy\n",
    "\n",
    "import joblib\n",
    "import random\n",
    "import warnings\n",
    "\n",
    "from sklearn.feature_extraction.text import TfidfVectorizer\n",
    "import nltk\n",
    "from nltk.stem import WordNetLemmatizer\n",
    "from nltk.corpus import stopwords\n",
    "import re\n",
    "\n",
    "from scipy.spatial.distance import cosine\n",
    "\n",
    "# Suppress specific RuntimeWarning\n",
    "warnings.filterwarnings(\"ignore\", category=RuntimeWarning)"
   ]
  },
  {
   "cell_type": "markdown",
   "id": "13e02503-f597-4fd6-85e9-503ccc41aff0",
   "metadata": {
    "execution": {
     "iopub.execute_input": "2024-03-12T09:38:18.013688Z",
     "iopub.status.busy": "2024-03-12T09:38:18.012882Z",
     "iopub.status.idle": "2024-03-12T09:38:18.026954Z",
     "shell.execute_reply": "2024-03-12T09:38:18.024233Z",
     "shell.execute_reply.started": "2024-03-12T09:38:18.013620Z"
    },
    "tags": []
   },
   "source": [
    "<div>\n",
    "<img src='pics/title2.png' width=\"100%\", max_height=\"1000\">\n",
    "</div>"
   ]
  },
  {
   "cell_type": "markdown",
   "id": "8f6dd5fe-52b4-472d-987d-22c95a0ecd66",
   "metadata": {
    "execution": {
     "iopub.execute_input": "2024-03-02T13:49:35.744477Z",
     "iopub.status.busy": "2024-03-02T13:49:35.743507Z",
     "iopub.status.idle": "2024-03-02T13:49:35.761432Z",
     "shell.execute_reply": "2024-03-02T13:49:35.759470Z",
     "shell.execute_reply.started": "2024-03-02T13:49:35.744477Z"
    }
   },
   "source": [
    "<div>\n",
    "<img src='pics/abstract.png' width=\"100%\", max_height=\"100\">\n",
    "</div>"
   ]
  },
  {
   "cell_type": "markdown",
   "id": "cc19f7b0-9180-46d1-93bb-992685f08641",
   "metadata": {},
   "source": [
    "This study addresses the limitations of existing anime recommender systems on popular streaming platforms, which often fail to align with user preferences, leading to a reliance on slower, crowdsourced recommendations. With the aim of enhancing user experience and recommendation efficiency, the authors propose the development of a efficient, data-driven recommender system. Utilizing a dataset from Kaggle comprising anime information and user-anime interactions, the research team crafted user-based and item-based collaborative filtering systems, alongside a content-based system focusing on anime synopses. The performance of these systems was evaluated using Mean Absolute Error (MAE) and Normalized Discounted Cumulative Gain (NDCG), demonstrating their effectiveness in providing accurate and relevant recommendations. The findings suggest that the developed systems significantly improve upon the issues found in current recommender systems, offering a promising solution for streaming platforms and hobby communities. This paper highlights the potential of data-driven approaches in overcoming the challenges of anime recommendation, paving the way for future research to further refine and expand upon these methods."
   ]
  },
  {
   "cell_type": "markdown",
   "id": "d3efba0b-289a-41ac-9ed1-a8bb10da6523",
   "metadata": {
    "execution": {
     "iopub.execute_input": "2024-03-02T13:49:35.744477Z",
     "iopub.status.busy": "2024-03-02T13:49:35.743507Z",
     "iopub.status.idle": "2024-03-02T13:49:35.761432Z",
     "shell.execute_reply": "2024-03-02T13:49:35.759470Z",
     "shell.execute_reply.started": "2024-03-02T13:49:35.744477Z"
    }
   },
   "source": [
    "<div>\n",
    "<img src='pics/problem.png' width=\"100%\", max_height=\"100\">\n",
    "</div>"
   ]
  },
  {
   "cell_type": "markdown",
   "id": "2eeebf17-7a43-4a00-8f3d-4b33f872a15b",
   "metadata": {},
   "source": [
    "Due to the growing dissatisfaction with existing recommender systems for anime on popular streaming platforms, many opt to use crowdsourced recommendations. However, this approach of recommending tends to be rather slow. If a user were to look for a new anime to watch, it would be tedious and time consuming. It drives the question \"Can a sophisticated and efficient recommender system be developed?\""
   ]
  },
  {
   "cell_type": "markdown",
   "id": "fb7bf38d-a3f3-4069-9649-2b464d8ad9a8",
   "metadata": {
    "execution": {
     "iopub.execute_input": "2024-03-02T13:49:35.744477Z",
     "iopub.status.busy": "2024-03-02T13:49:35.743507Z",
     "iopub.status.idle": "2024-03-02T13:49:35.761432Z",
     "shell.execute_reply": "2024-03-02T13:49:35.759470Z",
     "shell.execute_reply.started": "2024-03-02T13:49:35.744477Z"
    }
   },
   "source": [
    "<div>\n",
    "<img src='pics/motivation.png' width=\"100%\", max_height=\"100\">\n",
    "</div>"
   ]
  },
  {
   "cell_type": "markdown",
   "id": "cb712381-a5c0-4129-a7e4-52b7bf29996d",
   "metadata": {},
   "source": [
    "Streaming platforms such as Crunchyroll and Netflix have garnered millions of paid subscribers, offering a wide array of content including popular titles like Jujutsu Kaisen among their extensive selection of video content. However, a growing discontent among users regarding the effectiveness of recommender systems has become evident. Users frequently get recommendations for shows they’ve already watched or suggestions that appear incongruent with their preferences. Consequently, many anime enthusiasts would rather refer to third-party websites like [Anilist](https://anilist.co/search/anime) or [MyAnimeList](https://myanimelist.net/) for more reliable anime recommendations. These platforms rely on a crowdsourced model, where users contribute and endorse recommendations for anime titles, fostering a community-driven approach to discovering new content. However, the rapid pace at which new anime are released each season poses significant challenges to the sustainability of such a system, highlighting the need for a more sophisticated, data-driven approach to anime recommendations. This paper aims to explore the development and implementation of a data-driven solution for anime recommendations, addressing the limitations of current recommender systems and enhancing the user experience on streaming platforms and hobby communities. "
   ]
  },
  {
   "cell_type": "markdown",
   "id": "9c14842a-d186-4282-bb41-f2fc22b34a35",
   "metadata": {},
   "source": [
    "<div>\n",
    "<img src='pics/objectives.png' width=\"100%\", max_height=\"100\">\n",
    "</div>"
   ]
  },
  {
   "cell_type": "markdown",
   "id": "ad95cbd2-195f-4f23-87cc-d00600c9bc44",
   "metadata": {},
   "source": [
    "The main objective that the team wants to achieve with this study is develop a reliable recommender system that addresses the usual pain points of existing recommender systems in crowd-sourced anime enthusiasts platforms and online anime streaming providers.\n",
    "\n",
    "The team aims to craft accurate and efficient user-based and item-based collaborative filtering recommender systems, along with a content-based recommender system with performance evaluated using diverse metrics tailored to each system.\n",
    "\n",
    "\n"
   ]
  },
  {
   "cell_type": "markdown",
   "id": "f31c3809-ee67-48f2-aca2-848e5389f3fa",
   "metadata": {
    "execution": {
     "iopub.execute_input": "2024-03-02T13:49:35.744477Z",
     "iopub.status.busy": "2024-03-02T13:49:35.743507Z",
     "iopub.status.idle": "2024-03-02T13:49:35.761432Z",
     "shell.execute_reply": "2024-03-02T13:49:35.759470Z",
     "shell.execute_reply.started": "2024-03-02T13:49:35.744477Z"
    }
   },
   "source": [
    "<div>\n",
    "<img src='pics/data_source.png' width=\"100%\", max_height=\"100\">\n",
    "</div>"
   ]
  },
  {
   "cell_type": "markdown",
   "id": "82af12fc-e5c3-4321-a539-ddbd8f2ca901",
   "metadata": {},
   "source": [
    "The dataset obtained from [Kaggle](https://www.kaggle.com/datasets/dbdmobile/myanimelist-dataset) consists of three primary files: one containing the details of various animes, another containing user information, and a third file documenting user interactions along with their ratings for different animes (Anime Dataset 2023, 2023).\n",
    "<br><br>\n",
    "The researchers mainly used the anime information and the user-anime interactions file in this study.\n",
    "\n",
    "\n",
    "\n"
   ]
  },
  {
   "cell_type": "code",
   "execution_count": 3,
   "id": "c300c63e-4cb5-4f42-8e22-2be7468f43e8",
   "metadata": {
    "execution": {
     "iopub.execute_input": "2024-03-13T08:09:04.977381Z",
     "iopub.status.busy": "2024-03-13T08:09:04.976365Z",
     "iopub.status.idle": "2024-03-13T08:09:04.986500Z",
     "shell.execute_reply": "2024-03-13T08:09:04.984717Z",
     "shell.execute_reply.started": "2024-03-13T08:09:04.977312Z"
    },
    "tags": []
   },
   "outputs": [
    {
     "name": "stdout",
     "output_type": "stream",
     "text": [
      "Table 1. Anime dataset column names and their associated brief description.\n"
     ]
    }
   ],
   "source": [
    "print('Table 1. Anime dataset column names and their associated brief description.')"
   ]
  },
  {
   "cell_type": "markdown",
   "id": "fdc8d856-4e88-4278-bfb4-b082c943c5bc",
   "metadata": {
    "execution": {
     "iopub.execute_input": "2024-03-11T05:33:19.442931Z",
     "iopub.status.busy": "2024-03-11T05:33:19.442931Z",
     "iopub.status.idle": "2024-03-11T05:33:19.449107Z",
     "shell.execute_reply": "2024-03-11T05:33:19.449107Z",
     "shell.execute_reply.started": "2024-03-11T05:33:19.442931Z"
    }
   },
   "source": [
    "| Column       | Description                                                      |\n",
    "|--------------|------------------------------------------------------------------|\n",
    "| anime_id     | Unique ID for each anime.                                        |\n",
    "| Name         | The name of the anime in its original language.                  |\n",
    "| English name | The English name of the anime.                                   |\n",
    "| Other name   | Native name or title of the anime (e.g., Japanese, Chinese, Korean).|\n",
    "| Score        | The score or rating given to the anime. (overall popularity score)                     |\n",
    "| Genres       | The genres of the anime, separated by commas.                    |\n",
    "| Synopsis     | A brief description or summary of the anime's plot.              |\n",
    "| Type         | The type of the anime (e.g., TV series, movie, OVA, etc.).       |\n",
    "| Episodes     | The number of episodes in the anime.                             |\n",
    "| Aired        | The dates when the anime was aired.                              |\n",
    "| Premiered    | The season and year when the anime premiered.                    |\n",
    "| Status       | The status of the anime (e.g., Finished Airing, Currently Airing, etc.).|\n",
    "| Producers    | The production companies or producers of the anime.              |\n",
    "| Licensors    | The licensors of the anime (e.g., streaming platforms).          |\n",
    "| Studios      | The animation studios that worked on the anime.                  |\n",
    "| Source       | The source material of the anime (e.g., manga, light novel, original).|\n",
    "| Duration     | The duration of each episode.                                    |\n",
    "| Rating       | The age rating of the anime.                                     |\n",
    "| Rank         | The rank of the anime based on popularity or other criteria.     |\n",
    "| Popularity   | The popularity rank of the anime.                                |\n",
    "| Favorites    | The number of times the anime was marked as a favorite by users. |\n",
    "| Scored By    | The number of users who scored the anime.                        |\n",
    "| Members      | The number of members who have added the anime to their list on the platform.|\n",
    "| Image URL    | The URL of the anime's image or poster.                          |\n"
   ]
  },
  {
   "cell_type": "code",
   "execution_count": 4,
   "id": "705bddc5-4d58-4c33-90ff-ffee668ef60a",
   "metadata": {
    "execution": {
     "iopub.execute_input": "2024-03-13T08:09:05.494806Z",
     "iopub.status.busy": "2024-03-13T08:09:05.493270Z",
     "iopub.status.idle": "2024-03-13T08:09:05.503015Z",
     "shell.execute_reply": "2024-03-13T08:09:05.500712Z",
     "shell.execute_reply.started": "2024-03-13T08:09:05.494740Z"
    },
    "tags": []
   },
   "outputs": [
    {
     "name": "stdout",
     "output_type": "stream",
     "text": [
      "Table 2. User-Anime Interaction dataset columns and their brief description.\n"
     ]
    }
   ],
   "source": [
    "print('Table 2. User-Anime Interaction dataset columns and their brief description.')"
   ]
  },
  {
   "cell_type": "markdown",
   "id": "09c6fa8c-b68f-4701-824d-31fab6133b5b",
   "metadata": {},
   "source": [
    "| Column    | Description                                      |\n",
    "|-----------|--------------------------------------------------|\n",
    "| user_id   | Unique ID for each user.                         |\n",
    "| Username  | The username of the user.                        |\n",
    "| anime_id  | Unique ID for each anime.                        |\n",
    "| Anime Title | The title of the anime.                        |\n",
    "| rating    | The rating given by the user to the anime.      |\n"
   ]
  },
  {
   "cell_type": "markdown",
   "id": "b0029e5d-9a41-4418-8d95-357416155761",
   "metadata": {},
   "source": [
    "The researchers leveraged on these two datasets to create two kinds of recommender systems.\n",
    "A user-based collaborative filtering recommender systems and a content-based recommender system that used the 'synopsis' as basis of \"content\".\n"
   ]
  },
  {
   "cell_type": "markdown",
   "id": "35b22a40-cb38-4bf4-b207-d8b883eaf9ac",
   "metadata": {
    "execution": {
     "iopub.execute_input": "2024-03-02T13:49:35.744477Z",
     "iopub.status.busy": "2024-03-02T13:49:35.743507Z",
     "iopub.status.idle": "2024-03-02T13:49:35.761432Z",
     "shell.execute_reply": "2024-03-02T13:49:35.759470Z",
     "shell.execute_reply.started": "2024-03-02T13:49:35.744477Z"
    }
   },
   "source": [
    "<div>\n",
    "<img src='pics/method.png' width=\"100%\", max_height=\"100\">\n",
    "</div>"
   ]
  },
  {
   "cell_type": "markdown",
   "id": "8d1dbc62-335a-4d8b-bba6-e61fd04c3e6b",
   "metadata": {},
   "source": [
    "## Overview"
   ]
  },
  {
   "cell_type": "markdown",
   "id": "1e26f1c2-1a36-42e7-8954-c814024ca34b",
   "metadata": {},
   "source": [
    "### Methodology Overview\n",
    "\n",
    "The team has outlined the following methodology pipeline to ensure alignment with their primary objective:\n",
    "\n",
    "1. **Data Collection**\n",
    "    - Gather the dataset containing Anime information and the User-Anime interactions dataset.\n",
    "\n",
    "2. **Data Wrangling**\n",
    "    - **Exploratory Data Analysis**: Conduct an initial scan of the dataset to identify duplicated information and empty cells. Additionally, perform preliminary statistical analysis on the dataset.\n",
    "    - **Data Pre-Processing**: Cleanse the dataset for usability, including dropping or imputing necessary values. Prepare derived datasets to serve as inputs for the recommender systems.\n",
    "\n",
    "3. **Model Training (Recommender Systems)**\n",
    "    - **Surprise (Collaborative Filtering) Recommender System**\n",
    "        - **User-based**: This method examines similar users to a target user and recommends animes liked by those similar users.\n",
    "        - **Item-based**: This method identifies similar items to unrated animes and suggests animes with similar ratings.\n",
    "    - **Content-Based Recommender System**: Utilize the \"synopsis\" of each anime as content. Recommend similar animes based on the vectorized representation of the anime synopses.\n",
    "\n",
    "4. **Results and Discussion**\n",
    "    - Evaluate model performance and discuss insights derived from the evaluation.\n",
    "\n",
    "5. **Conclusion and Recommendations**\n",
    "    - Provide final thoughts on the study and recommendations for potential improvements in future studies.\n"
   ]
  },
  {
   "cell_type": "markdown",
   "id": "c2a89f33-4a20-4500-b48a-c0e28642fdfb",
   "metadata": {},
   "source": [
    "## Detailed"
   ]
  },
  {
   "cell_type": "markdown",
   "id": "c0c7a719-a8f1-4888-a100-e1f7ed0833c3",
   "metadata": {
    "execution": {
     "iopub.execute_input": "2024-03-02T13:49:35.744477Z",
     "iopub.status.busy": "2024-03-02T13:49:35.743507Z",
     "iopub.status.idle": "2024-03-02T13:49:35.761432Z",
     "shell.execute_reply": "2024-03-02T13:49:35.759470Z",
     "shell.execute_reply.started": "2024-03-02T13:49:35.744477Z"
    }
   },
   "source": [
    "### Exploratory Data Analysis"
   ]
  },
  {
   "cell_type": "code",
   "execution_count": 5,
   "id": "9570e391-3ab2-41c9-abc5-f1cd47714206",
   "metadata": {
    "execution": {
     "iopub.execute_input": "2024-03-13T08:09:07.043142Z",
     "iopub.status.busy": "2024-03-13T08:09:07.042408Z",
     "iopub.status.idle": "2024-03-13T08:09:28.355879Z",
     "shell.execute_reply": "2024-03-13T08:09:28.354923Z",
     "shell.execute_reply.started": "2024-03-13T08:09:07.043079Z"
    },
    "tags": []
   },
   "outputs": [],
   "source": [
    "df_anime = pd.read_csv(\"anime-dataset-2023.csv\")\n",
    "df_user = pd.read_csv(\"users-score-2023.csv\")"
   ]
  },
  {
   "cell_type": "markdown",
   "id": "53bf40ff-6f25-49aa-98d0-fba474fee39d",
   "metadata": {},
   "source": [
    "During the **Exploratory Data Analysis** phase, the team delved into several key aspects of the dataset to gain insights and ensure its quality. They examined the following:\n",
    "\n",
    "1. **Missing Values and Duplicates**:\n",
    "\n"
   ]
  },
  {
   "cell_type": "code",
   "execution_count": 6,
   "id": "80e89c0e-79c1-4d72-b750-db273d9468ac",
   "metadata": {
    "execution": {
     "iopub.execute_input": "2024-03-13T08:09:28.357703Z",
     "iopub.status.busy": "2024-03-13T08:09:28.357434Z",
     "iopub.status.idle": "2024-03-13T08:09:28.362234Z",
     "shell.execute_reply": "2024-03-13T08:09:28.361608Z",
     "shell.execute_reply.started": "2024-03-13T08:09:28.357680Z"
    },
    "tags": []
   },
   "outputs": [
    {
     "name": "stdout",
     "output_type": "stream",
     "text": [
      "Table 3. Number of null values in anime dataset.\n"
     ]
    }
   ],
   "source": [
    "print('Table 3. Number of null values in anime dataset.')"
   ]
  },
  {
   "cell_type": "code",
   "execution_count": 7,
   "id": "17934f92-5732-4ace-8eba-18a0505517b3",
   "metadata": {
    "execution": {
     "iopub.execute_input": "2024-03-13T08:09:28.363297Z",
     "iopub.status.busy": "2024-03-13T08:09:28.363072Z",
     "iopub.status.idle": "2024-03-13T08:09:28.459921Z",
     "shell.execute_reply": "2024-03-13T08:09:28.459271Z",
     "shell.execute_reply.started": "2024-03-13T08:09:28.363277Z"
    },
    "tags": []
   },
   "outputs": [
    {
     "data": {
      "text/html": [
       "<div>\n",
       "<style scoped>\n",
       "    .dataframe tbody tr th:only-of-type {\n",
       "        vertical-align: middle;\n",
       "    }\n",
       "\n",
       "    .dataframe tbody tr th {\n",
       "        vertical-align: top;\n",
       "    }\n",
       "\n",
       "    .dataframe thead th {\n",
       "        text-align: right;\n",
       "    }\n",
       "</style>\n",
       "<table border=\"1\" class=\"dataframe\">\n",
       "  <thead>\n",
       "    <tr style=\"text-align: right;\">\n",
       "      <th></th>\n",
       "      <th>Number of null values</th>\n",
       "    </tr>\n",
       "  </thead>\n",
       "  <tbody>\n",
       "    <tr>\n",
       "      <th>anime_id</th>\n",
       "      <td>0</td>\n",
       "    </tr>\n",
       "    <tr>\n",
       "      <th>Name</th>\n",
       "      <td>0</td>\n",
       "    </tr>\n",
       "    <tr>\n",
       "      <th>English name</th>\n",
       "      <td>0</td>\n",
       "    </tr>\n",
       "    <tr>\n",
       "      <th>Other name</th>\n",
       "      <td>0</td>\n",
       "    </tr>\n",
       "    <tr>\n",
       "      <th>Score</th>\n",
       "      <td>0</td>\n",
       "    </tr>\n",
       "    <tr>\n",
       "      <th>Genres</th>\n",
       "      <td>0</td>\n",
       "    </tr>\n",
       "    <tr>\n",
       "      <th>Synopsis</th>\n",
       "      <td>0</td>\n",
       "    </tr>\n",
       "    <tr>\n",
       "      <th>Type</th>\n",
       "      <td>0</td>\n",
       "    </tr>\n",
       "    <tr>\n",
       "      <th>Episodes</th>\n",
       "      <td>0</td>\n",
       "    </tr>\n",
       "    <tr>\n",
       "      <th>Aired</th>\n",
       "      <td>0</td>\n",
       "    </tr>\n",
       "    <tr>\n",
       "      <th>Premiered</th>\n",
       "      <td>0</td>\n",
       "    </tr>\n",
       "    <tr>\n",
       "      <th>Status</th>\n",
       "      <td>0</td>\n",
       "    </tr>\n",
       "    <tr>\n",
       "      <th>Producers</th>\n",
       "      <td>0</td>\n",
       "    </tr>\n",
       "    <tr>\n",
       "      <th>Licensors</th>\n",
       "      <td>0</td>\n",
       "    </tr>\n",
       "    <tr>\n",
       "      <th>Studios</th>\n",
       "      <td>0</td>\n",
       "    </tr>\n",
       "    <tr>\n",
       "      <th>Source</th>\n",
       "      <td>0</td>\n",
       "    </tr>\n",
       "    <tr>\n",
       "      <th>Duration</th>\n",
       "      <td>0</td>\n",
       "    </tr>\n",
       "    <tr>\n",
       "      <th>Rating</th>\n",
       "      <td>0</td>\n",
       "    </tr>\n",
       "    <tr>\n",
       "      <th>Rank</th>\n",
       "      <td>0</td>\n",
       "    </tr>\n",
       "    <tr>\n",
       "      <th>Popularity</th>\n",
       "      <td>0</td>\n",
       "    </tr>\n",
       "    <tr>\n",
       "      <th>Favorites</th>\n",
       "      <td>0</td>\n",
       "    </tr>\n",
       "    <tr>\n",
       "      <th>Scored By</th>\n",
       "      <td>0</td>\n",
       "    </tr>\n",
       "    <tr>\n",
       "      <th>Members</th>\n",
       "      <td>0</td>\n",
       "    </tr>\n",
       "    <tr>\n",
       "      <th>Image URL</th>\n",
       "      <td>0</td>\n",
       "    </tr>\n",
       "  </tbody>\n",
       "</table>\n",
       "</div>"
      ],
      "text/plain": [
       "              Number of null values\n",
       "anime_id                          0\n",
       "Name                              0\n",
       "English name                      0\n",
       "Other name                        0\n",
       "Score                             0\n",
       "Genres                            0\n",
       "Synopsis                          0\n",
       "Type                              0\n",
       "Episodes                          0\n",
       "Aired                             0\n",
       "Premiered                         0\n",
       "Status                            0\n",
       "Producers                         0\n",
       "Licensors                         0\n",
       "Studios                           0\n",
       "Source                            0\n",
       "Duration                          0\n",
       "Rating                            0\n",
       "Rank                              0\n",
       "Popularity                        0\n",
       "Favorites                         0\n",
       "Scored By                         0\n",
       "Members                           0\n",
       "Image URL                         0"
      ]
     },
     "execution_count": 7,
     "metadata": {},
     "output_type": "execute_result"
    }
   ],
   "source": [
    "pd.DataFrame(df_anime.isna().sum(), columns=['Number of null values'])"
   ]
  },
  {
   "cell_type": "code",
   "execution_count": 8,
   "id": "93fb001f-5c65-458d-8e88-508c030470ca",
   "metadata": {
    "execution": {
     "iopub.execute_input": "2024-03-13T08:09:28.461705Z",
     "iopub.status.busy": "2024-03-13T08:09:28.461458Z",
     "iopub.status.idle": "2024-03-13T08:09:28.465430Z",
     "shell.execute_reply": "2024-03-13T08:09:28.464823Z",
     "shell.execute_reply.started": "2024-03-13T08:09:28.461683Z"
    },
    "tags": []
   },
   "outputs": [
    {
     "name": "stdout",
     "output_type": "stream",
     "text": [
      "Table 4. Number of null values in user-anime interaction dataset.\n"
     ]
    }
   ],
   "source": [
    "print('Table 4. Number of null values in user-anime interaction dataset.')"
   ]
  },
  {
   "cell_type": "code",
   "execution_count": 9,
   "id": "2b96efb9-9d3a-42f0-857f-62bf54b1f0c1",
   "metadata": {
    "execution": {
     "iopub.execute_input": "2024-03-13T08:09:28.466492Z",
     "iopub.status.busy": "2024-03-13T08:09:28.466261Z",
     "iopub.status.idle": "2024-03-13T08:09:35.050804Z",
     "shell.execute_reply": "2024-03-13T08:09:35.049696Z",
     "shell.execute_reply.started": "2024-03-13T08:09:28.466471Z"
    },
    "tags": []
   },
   "outputs": [
    {
     "data": {
      "text/html": [
       "<div>\n",
       "<style scoped>\n",
       "    .dataframe tbody tr th:only-of-type {\n",
       "        vertical-align: middle;\n",
       "    }\n",
       "\n",
       "    .dataframe tbody tr th {\n",
       "        vertical-align: top;\n",
       "    }\n",
       "\n",
       "    .dataframe thead th {\n",
       "        text-align: right;\n",
       "    }\n",
       "</style>\n",
       "<table border=\"1\" class=\"dataframe\">\n",
       "  <thead>\n",
       "    <tr style=\"text-align: right;\">\n",
       "      <th></th>\n",
       "      <th>Number of null values</th>\n",
       "    </tr>\n",
       "  </thead>\n",
       "  <tbody>\n",
       "    <tr>\n",
       "      <th>user_id</th>\n",
       "      <td>0</td>\n",
       "    </tr>\n",
       "    <tr>\n",
       "      <th>Username</th>\n",
       "      <td>0</td>\n",
       "    </tr>\n",
       "    <tr>\n",
       "      <th>anime_id</th>\n",
       "      <td>0</td>\n",
       "    </tr>\n",
       "    <tr>\n",
       "      <th>Anime Title</th>\n",
       "      <td>0</td>\n",
       "    </tr>\n",
       "    <tr>\n",
       "      <th>rating</th>\n",
       "      <td>0</td>\n",
       "    </tr>\n",
       "  </tbody>\n",
       "</table>\n",
       "</div>"
      ],
      "text/plain": [
       "             Number of null values\n",
       "user_id                          0\n",
       "Username                         0\n",
       "anime_id                         0\n",
       "Anime Title                      0\n",
       "rating                           0"
      ]
     },
     "execution_count": 9,
     "metadata": {},
     "output_type": "execute_result"
    }
   ],
   "source": [
    "pd.DataFrame(df_user.isna().sum(), columns=['Number of null values'])"
   ]
  },
  {
   "cell_type": "code",
   "execution_count": 10,
   "id": "f4047982-75f3-4d9f-bc4a-fa5fbf582c5e",
   "metadata": {
    "execution": {
     "iopub.execute_input": "2024-03-13T08:09:35.052468Z",
     "iopub.status.busy": "2024-03-13T08:09:35.052118Z",
     "iopub.status.idle": "2024-03-13T08:09:49.000123Z",
     "shell.execute_reply": "2024-03-13T08:09:48.999114Z",
     "shell.execute_reply.started": "2024-03-13T08:09:35.052435Z"
    },
    "tags": []
   },
   "outputs": [
    {
     "name": "stdout",
     "output_type": "stream",
     "text": [
      "Number of duplicates in anime dataset: 0\n",
      "Number of duplicates in user-anime interaction dataset: 0\n"
     ]
    }
   ],
   "source": [
    "print(f'Number of duplicates in anime dataset: {df_anime.drop(\"Genres\", axis=1).duplicated().sum()}')\n",
    "print(f'Number of duplicates in user-anime interaction dataset: {df_user.duplicated().sum()}')"
   ]
  },
  {
   "cell_type": "markdown",
   "id": "d0d556e6-2bcb-48af-b787-ccadfd5ac028",
   "metadata": {},
   "source": [
    "The team investigated whether there were any null values within the dataset and identified any duplicated entries as shown in the tables above. Additionally, they assessed if there are specific columns that needed to cleaned -- these can be columns that have values that doesn't make sense."
   ]
  },
  {
   "cell_type": "markdown",
   "id": "c9514d28-6df0-4dc6-b510-f3139af8b81e",
   "metadata": {},
   "source": [
    "2. **Global Ratings Distribution**:  "
   ]
  },
  {
   "cell_type": "code",
   "execution_count": 108,
   "id": "b82dbc66-2571-484e-9895-edf72b442e35",
   "metadata": {
    "execution": {
     "iopub.execute_input": "2024-03-15T03:01:49.840528Z",
     "iopub.status.busy": "2024-03-15T03:01:49.839769Z",
     "iopub.status.idle": "2024-03-15T03:01:52.087910Z",
     "shell.execute_reply": "2024-03-15T03:01:52.086663Z",
     "shell.execute_reply.started": "2024-03-15T03:01:49.840466Z"
    },
    "tags": []
   },
   "outputs": [
    {
     "data": {
      "image/png": "[encoded data removed]",
      "text/plain": [
       "<Figure size 1000x600 with 1 Axes>"
      ]
     },
     "metadata": {},
     "output_type": "display_data"
    }
   ],
   "source": [
    "plt.figure(figsize=(10, 6))\n",
    "\n",
    "df_user.rating.plot(kind='hist', color='#F05A39')\n",
    "plt.xlabel('Rating')\n",
    "plt.xticks(rotation=45)\n",
    "plt.tight_layout()\n",
    "plt.show()"
   ]
  },
  {
   "cell_type": "markdown",
   "id": "242bda0f-d91c-414e-b3de-91dc0aebe80c",
   "metadata": {},
   "source": [
    "Figure 1. Global anime rating distribution across users."
   ]
  },
  {
   "cell_type": "markdown",
   "id": "4b071961-c1dd-4f55-a276-88d037d7b298",
   "metadata": {},
   "source": [
    "They analyzed the frequency distribution of global ratings to understand the overall pattern and variation within the dataset."
   ]
  },
  {
   "cell_type": "code",
   "execution_count": 12,
   "id": "5e072dcb-2312-49dd-bc22-9961e96128ca",
   "metadata": {
    "execution": {
     "iopub.execute_input": "2024-03-13T08:09:51.359754Z",
     "iopub.status.busy": "2024-03-13T08:09:51.359522Z",
     "iopub.status.idle": "2024-03-13T08:09:51.393378Z",
     "shell.execute_reply": "2024-03-13T08:09:51.392240Z",
     "shell.execute_reply.started": "2024-03-13T08:09:51.359733Z"
    },
    "tags": []
   },
   "outputs": [
    {
     "name": "stdout",
     "output_type": "stream",
     "text": [
      "  3. Mean Global Rating:  7.6\n"
     ]
    }
   ],
   "source": [
    "print(f'  3. Mean Global Rating: {df_user.rating.mean(): .1f}')"
   ]
  },
  {
   "cell_type": "markdown",
   "id": "1000f1cf-f7e6-4b09-b48c-757acc4e9487",
   "metadata": {},
   "source": [
    " The team calculated the average global rating across all users to gauge the general sentiment towards the anime This allows the team to have a general idea on user rating behaviors."
   ]
  },
  {
   "cell_type": "markdown",
   "id": "0e71e524-aa95-4438-8fca-203645527c64",
   "metadata": {
    "execution": {
     "iopub.execute_input": "2024-03-12T14:39:11.345971Z",
     "iopub.status.busy": "2024-03-12T14:39:11.345258Z",
     "iopub.status.idle": "2024-03-12T14:39:14.372072Z",
     "shell.execute_reply": "2024-03-12T14:39:14.370992Z",
     "shell.execute_reply.started": "2024-03-12T14:39:11.345908Z"
    },
    "tags": []
   },
   "source": [
    "4. **Top 10 Animes**:"
   ]
  },
  {
   "cell_type": "code",
   "execution_count": 109,
   "id": "591cd2ab-111f-4b9f-a33f-200cf6872385",
   "metadata": {
    "execution": {
     "iopub.execute_input": "2024-03-15T03:02:05.098955Z",
     "iopub.status.busy": "2024-03-15T03:02:05.098124Z",
     "iopub.status.idle": "2024-03-15T03:02:05.113257Z",
     "shell.execute_reply": "2024-03-15T03:02:05.111783Z",
     "shell.execute_reply.started": "2024-03-15T03:02:05.098889Z"
    },
    "tags": []
   },
   "outputs": [],
   "source": [
    "def plot_top_anime(df, n=10):\n",
    "    \"\"\"\n",
    "    Plot the top N anime by average rating and number of votes.\n",
    "    \"\"\"\n",
    "    anime_stats = df.groupby('Anime Title').agg({'rating': ['mean', 'count']})\n",
    "    anime_stats.columns = ['Average Rating', 'Number of Votes']\n",
    "    top_anime = anime_stats.sort_values(\n",
    "        by=['Number of Votes', 'Average Rating'], ascending=False).head(n)\n",
    "    top_anime_sorted = top_anime.sort_values(\n",
    "        by='Average Rating', ascending=True)\n",
    "    plt.figure(figsize=(10, 6))\n",
    "    top_anime_sorted['Average Rating'].plot(kind='barh', color='#F05A39')\n",
    "    plt.xlabel('Rating')\n",
    "    plt.tight_layout()\n",
    "    plt.show()\n",
    "\n",
    "    return top_anime_sorted"
   ]
  },
  {
   "cell_type": "code",
   "execution_count": 110,
   "id": "4f52783d-d142-4030-a17c-0e17c7a0aabb",
   "metadata": {
    "execution": {
     "iopub.execute_input": "2024-03-15T03:02:06.023253Z",
     "iopub.status.busy": "2024-03-15T03:02:06.022512Z",
     "iopub.status.idle": "2024-03-15T03:02:09.210215Z",
     "shell.execute_reply": "2024-03-15T03:02:09.209209Z",
     "shell.execute_reply.started": "2024-03-15T03:02:06.023189Z"
    },
    "tags": []
   },
   "outputs": [
    {
     "data": {
      "image/png": "[encoded data removed]",
      "text/plain": [
       "<Figure size 1000x600 with 1 Axes>"
      ]
     },
     "metadata": {},
     "output_type": "display_data"
    }
   ],
   "source": [
    "top_anime_sorted_idx = plot_top_anime(df_user, n=10)"
   ]
  },
  {
   "cell_type": "markdown",
   "id": "486ca910-df61-482f-8b50-7a66b1879b64",
   "metadata": {},
   "source": [
    "Figure 2. Top 10 anime with the highest average rating and number of votes."
   ]
  },
  {
   "cell_type": "markdown",
   "id": "fab54736-7699-4ed8-9b27-9f349ff5526c",
   "metadata": {},
   "source": [
    "They identified the top 10 animes based on various criteria such as by votes and popularity."
   ]
  },
  {
   "cell_type": "code",
   "execution_count": 15,
   "id": "486bd8d1-9cf6-4ce4-9353-aa738812143e",
   "metadata": {
    "execution": {
     "iopub.execute_input": "2024-03-13T08:09:54.581923Z",
     "iopub.status.busy": "2024-03-13T08:09:54.581676Z",
     "iopub.status.idle": "2024-03-13T08:09:54.605064Z",
     "shell.execute_reply": "2024-03-13T08:09:54.604358Z",
     "shell.execute_reply.started": "2024-03-13T08:09:54.581901Z"
    },
    "tags": []
   },
   "outputs": [
    {
     "name": "stdout",
     "output_type": "stream",
     "text": [
      "Table 5. Top 10 Anime with their genres, studios, and producers.\n"
     ]
    },
    {
     "data": {
      "text/html": [
       "<div>\n",
       "<style scoped>\n",
       "    .dataframe tbody tr th:only-of-type {\n",
       "        vertical-align: middle;\n",
       "    }\n",
       "\n",
       "    .dataframe tbody tr th {\n",
       "        vertical-align: top;\n",
       "    }\n",
       "\n",
       "    .dataframe thead th {\n",
       "        text-align: right;\n",
       "    }\n",
       "</style>\n",
       "<table border=\"1\" class=\"dataframe\">\n",
       "  <thead>\n",
       "    <tr style=\"text-align: right;\">\n",
       "      <th></th>\n",
       "      <th>Genres</th>\n",
       "      <th>Studios</th>\n",
       "      <th>Producers</th>\n",
       "    </tr>\n",
       "    <tr>\n",
       "      <th>Name</th>\n",
       "      <th></th>\n",
       "      <th></th>\n",
       "      <th></th>\n",
       "    </tr>\n",
       "  </thead>\n",
       "  <tbody>\n",
       "    <tr>\n",
       "      <th>Fullmetal Alchemist: Brotherhood</th>\n",
       "      <td>Action, Adventure, Drama, Fantasy</td>\n",
       "      <td>Bones</td>\n",
       "      <td>Aniplex, Square Enix, Mainichi Broadcasting Sy...</td>\n",
       "    </tr>\n",
       "    <tr>\n",
       "      <th>Code Geass: Hangyaku no Lelouch R2</th>\n",
       "      <td>Action, Award Winning, Drama, Sci-Fi</td>\n",
       "      <td>Sunrise</td>\n",
       "      <td>Bandai Visual, Mainichi Broadcasting System, B...</td>\n",
       "    </tr>\n",
       "    <tr>\n",
       "      <th>Sen to Chihiro no Kamikakushi</th>\n",
       "      <td>Adventure, Award Winning, Supernatural</td>\n",
       "      <td>Studio Ghibli</td>\n",
       "      <td>Toho</td>\n",
       "    </tr>\n",
       "    <tr>\n",
       "      <th>Code Geass: Hangyaku no Lelouch</th>\n",
       "      <td>Action, Award Winning, Drama, Sci-Fi</td>\n",
       "      <td>Sunrise</td>\n",
       "      <td>Bandai Visual, Mainichi Broadcasting System, B...</td>\n",
       "    </tr>\n",
       "    <tr>\n",
       "      <th>Death Note</th>\n",
       "      <td>Supernatural, Suspense</td>\n",
       "      <td>Madhouse</td>\n",
       "      <td>VAP, Konami, Ashi Productions, Nippon Televisi...</td>\n",
       "    </tr>\n",
       "    <tr>\n",
       "      <th>Fullmetal Alchemist</th>\n",
       "      <td>Action, Adventure, Award Winning, Drama, Fantasy</td>\n",
       "      <td>Bones</td>\n",
       "      <td>Aniplex, Dentsu, Square Enix, Mainichi Broadca...</td>\n",
       "    </tr>\n",
       "    <tr>\n",
       "      <th>Angel Beats!</th>\n",
       "      <td>Drama, Supernatural</td>\n",
       "      <td>P.A. Works</td>\n",
       "      <td>Aniplex, Dentsu, Mainichi Broadcasting System,...</td>\n",
       "    </tr>\n",
       "    <tr>\n",
       "      <th>Elfen Lied</th>\n",
       "      <td>Action, Drama, Horror, Romance, Supernatural</td>\n",
       "      <td>Arms</td>\n",
       "      <td>VAP, Genco, Studio Guts</td>\n",
       "    </tr>\n",
       "    <tr>\n",
       "      <th>Bleach</th>\n",
       "      <td>Action, Adventure, Fantasy</td>\n",
       "      <td>Pierrot</td>\n",
       "      <td>TV Tokyo, Aniplex, Dentsu, TV Tokyo Music, Stu...</td>\n",
       "    </tr>\n",
       "    <tr>\n",
       "      <th>Naruto</th>\n",
       "      <td>Action, Adventure, Fantasy</td>\n",
       "      <td>Pierrot</td>\n",
       "      <td>TV Tokyo, Aniplex, Shueisha</td>\n",
       "    </tr>\n",
       "  </tbody>\n",
       "</table>\n",
       "</div>"
      ],
      "text/plain": [
       "                                                                              Genres  \\\n",
       "Name                                                                                   \n",
       "Fullmetal Alchemist: Brotherhood                   Action, Adventure, Drama, Fantasy   \n",
       "Code Geass: Hangyaku no Lelouch R2              Action, Award Winning, Drama, Sci-Fi   \n",
       "Sen to Chihiro no Kamikakushi                 Adventure, Award Winning, Supernatural   \n",
       "Code Geass: Hangyaku no Lelouch                 Action, Award Winning, Drama, Sci-Fi   \n",
       "Death Note                                                    Supernatural, Suspense   \n",
       "Fullmetal Alchemist                 Action, Adventure, Award Winning, Drama, Fantasy   \n",
       "Angel Beats!                                                     Drama, Supernatural   \n",
       "Elfen Lied                              Action, Drama, Horror, Romance, Supernatural   \n",
       "Bleach                                                    Action, Adventure, Fantasy   \n",
       "Naruto                                                    Action, Adventure, Fantasy   \n",
       "\n",
       "                                          Studios  \\\n",
       "Name                                                \n",
       "Fullmetal Alchemist: Brotherhood            Bones   \n",
       "Code Geass: Hangyaku no Lelouch R2        Sunrise   \n",
       "Sen to Chihiro no Kamikakushi       Studio Ghibli   \n",
       "Code Geass: Hangyaku no Lelouch           Sunrise   \n",
       "Death Note                               Madhouse   \n",
       "Fullmetal Alchemist                         Bones   \n",
       "Angel Beats!                           P.A. Works   \n",
       "Elfen Lied                                   Arms   \n",
       "Bleach                                    Pierrot   \n",
       "Naruto                                    Pierrot   \n",
       "\n",
       "                                                                            Producers  \n",
       "Name                                                                                   \n",
       "Fullmetal Alchemist: Brotherhood    Aniplex, Square Enix, Mainichi Broadcasting Sy...  \n",
       "Code Geass: Hangyaku no Lelouch R2  Bandai Visual, Mainichi Broadcasting System, B...  \n",
       "Sen to Chihiro no Kamikakushi                                                    Toho  \n",
       "Code Geass: Hangyaku no Lelouch     Bandai Visual, Mainichi Broadcasting System, B...  \n",
       "Death Note                          VAP, Konami, Ashi Productions, Nippon Televisi...  \n",
       "Fullmetal Alchemist                 Aniplex, Dentsu, Square Enix, Mainichi Broadca...  \n",
       "Angel Beats!                        Aniplex, Dentsu, Mainichi Broadcasting System,...  \n",
       "Elfen Lied                                                    VAP, Genco, Studio Guts  \n",
       "Bleach                              TV Tokyo, Aniplex, Dentsu, TV Tokyo Music, Stu...  \n",
       "Naruto                                                    TV Tokyo, Aniplex, Shueisha  "
      ]
     },
     "execution_count": 15,
     "metadata": {},
     "output_type": "execute_result"
    }
   ],
   "source": [
    "df_anime_2 = df_anime.set_index('Name')\n",
    "top_anime_10_df = df_anime_2.loc[top_anime_sorted_idx.index.tolist()[::-1], [\n",
    "    'Genres', 'Studios', 'Producers']]\n",
    "print('Table 5. Top 10 Anime with their genres, studios, and producers.')\n",
    "top_anime_10_df"
   ]
  },
  {
   "cell_type": "markdown",
   "id": "85ab3477-be91-4d17-bda1-4591ae393140",
   "metadata": {},
   "source": [
    "Furthermore, they examined associated attributes including studios, producers, and genres of these top-rated animes to uncover any patterns or trends."
   ]
  },
  {
   "cell_type": "markdown",
   "id": "e5f4329c-8d69-4675-b887-98fc4ceaa045",
   "metadata": {
    "execution": {
     "iopub.execute_input": "2024-03-02T13:49:35.744477Z",
     "iopub.status.busy": "2024-03-02T13:49:35.743507Z",
     "iopub.status.idle": "2024-03-02T13:49:35.761432Z",
     "shell.execute_reply": "2024-03-02T13:49:35.759470Z",
     "shell.execute_reply.started": "2024-03-02T13:49:35.744477Z"
    }
   },
   "source": [
    "### Data Pre-processing"
   ]
  },
  {
   "cell_type": "markdown",
   "id": "df70a806-4931-434b-aae9-e82c7110caaf",
   "metadata": {},
   "source": [
    "In this preprocessing step, the team took action based on the observations derived from the exploratory data analysis.\n",
    "\n",
    "Firstly, they removed all anime in `df_anime` with blank synopses. By identifying anime IDs without synopses, they filtered out these animes from `df_user` dataframe. Some intances of these datapoints are shown in the table below."
   ]
  },
  {
   "cell_type": "code",
   "execution_count": 16,
   "id": "e4723f60-4638-40cc-a8da-bef087bf05df",
   "metadata": {
    "execution": {
     "iopub.execute_input": "2024-03-13T08:09:54.606142Z",
     "iopub.status.busy": "2024-03-13T08:09:54.605908Z",
     "iopub.status.idle": "2024-03-13T08:09:54.639891Z",
     "shell.execute_reply": "2024-03-13T08:09:54.639324Z",
     "shell.execute_reply.started": "2024-03-13T08:09:54.606121Z"
    },
    "tags": []
   },
   "outputs": [
    {
     "name": "stdout",
     "output_type": "stream",
     "text": [
      "Table 6. Snippet of anime dataset with anime with no description.\n"
     ]
    },
    {
     "data": {
      "text/html": [
       "<div>\n",
       "<style scoped>\n",
       "    .dataframe tbody tr th:only-of-type {\n",
       "        vertical-align: middle;\n",
       "    }\n",
       "\n",
       "    .dataframe tbody tr th {\n",
       "        vertical-align: top;\n",
       "    }\n",
       "\n",
       "    .dataframe thead th {\n",
       "        text-align: right;\n",
       "    }\n",
       "</style>\n",
       "<table border=\"1\" class=\"dataframe\">\n",
       "  <thead>\n",
       "    <tr style=\"text-align: right;\">\n",
       "      <th></th>\n",
       "      <th>anime_id</th>\n",
       "      <th>Name</th>\n",
       "      <th>English name</th>\n",
       "      <th>Score</th>\n",
       "      <th>Genres</th>\n",
       "      <th>Synopsis</th>\n",
       "      <th>Type</th>\n",
       "      <th>Episodes</th>\n",
       "      <th>Aired</th>\n",
       "      <th>Premiered</th>\n",
       "      <th>...</th>\n",
       "      <th>Studios</th>\n",
       "      <th>Source</th>\n",
       "      <th>Duration</th>\n",
       "      <th>Rating</th>\n",
       "      <th>Rank</th>\n",
       "      <th>Popularity</th>\n",
       "      <th>Favorites</th>\n",
       "      <th>Scored By</th>\n",
       "      <th>Members</th>\n",
       "      <th>Image URL</th>\n",
       "    </tr>\n",
       "  </thead>\n",
       "  <tbody>\n",
       "    <tr>\n",
       "      <th>2412</th>\n",
       "      <td>2626</td>\n",
       "      <td>The☆Doraemons: Mushimushi Pyonpyon Daisakusen!</td>\n",
       "      <td>UNKNOWN</td>\n",
       "      <td>6.35</td>\n",
       "      <td>Fantasy</td>\n",
       "      <td>No description available for this anime.</td>\n",
       "      <td>Movie</td>\n",
       "      <td>1.0</td>\n",
       "      <td>Mar 7, 1998</td>\n",
       "      <td>UNKNOWN</td>\n",
       "      <td>...</td>\n",
       "      <td>Shin-Ei Animation</td>\n",
       "      <td>Unknown</td>\n",
       "      <td>16 min</td>\n",
       "      <td>PG - Children</td>\n",
       "      <td>7118.0</td>\n",
       "      <td>11312</td>\n",
       "      <td>0</td>\n",
       "      <td>652.0</td>\n",
       "      <td>1583</td>\n",
       "      <td>https://cdn.myanimelist.net/images/anime/11/31...</td>\n",
       "    </tr>\n",
       "    <tr>\n",
       "      <th>2413</th>\n",
       "      <td>2628</td>\n",
       "      <td>The☆Doraemons: Strange, Sweets, Strange?</td>\n",
       "      <td>UNKNOWN</td>\n",
       "      <td>6.11</td>\n",
       "      <td>Fantasy</td>\n",
       "      <td>No description available for this anime.</td>\n",
       "      <td>Movie</td>\n",
       "      <td>1.0</td>\n",
       "      <td>Mar 6, 1999</td>\n",
       "      <td>UNKNOWN</td>\n",
       "      <td>...</td>\n",
       "      <td>Shin-Ei Animation</td>\n",
       "      <td>Unknown</td>\n",
       "      <td>16 min</td>\n",
       "      <td>PG - Children</td>\n",
       "      <td>8295.0</td>\n",
       "      <td>11634</td>\n",
       "      <td>0</td>\n",
       "      <td>531.0</td>\n",
       "      <td>1405</td>\n",
       "      <td>https://cdn.myanimelist.net/images/anime/1400/...</td>\n",
       "    </tr>\n",
       "    <tr>\n",
       "      <th>2414</th>\n",
       "      <td>2629</td>\n",
       "      <td>Doraemon and Itchy the Stray</td>\n",
       "      <td>UNKNOWN</td>\n",
       "      <td>6.48</td>\n",
       "      <td>Comedy, Sci-Fi</td>\n",
       "      <td>No description available for this anime.</td>\n",
       "      <td>Special</td>\n",
       "      <td>1.0</td>\n",
       "      <td>Jan 2, 1987</td>\n",
       "      <td>UNKNOWN</td>\n",
       "      <td>...</td>\n",
       "      <td>UNKNOWN</td>\n",
       "      <td>Unknown</td>\n",
       "      <td>22 min</td>\n",
       "      <td>PG - Children</td>\n",
       "      <td>6467.0</td>\n",
       "      <td>10959</td>\n",
       "      <td>1</td>\n",
       "      <td>775.0</td>\n",
       "      <td>1814</td>\n",
       "      <td>https://cdn.myanimelist.net/images/anime/12/57...</td>\n",
       "    </tr>\n",
       "  </tbody>\n",
       "</table>\n",
       "<p>3 rows × 23 columns</p>\n",
       "</div>"
      ],
      "text/plain": [
       "      anime_id                                            Name English name  \\\n",
       "2412      2626  The☆Doraemons: Mushimushi Pyonpyon Daisakusen!      UNKNOWN   \n",
       "2413      2628        The☆Doraemons: Strange, Sweets, Strange?      UNKNOWN   \n",
       "2414      2629                    Doraemon and Itchy the Stray      UNKNOWN   \n",
       "\n",
       "     Score          Genres                                  Synopsis     Type  \\\n",
       "2412  6.35         Fantasy  No description available for this anime.    Movie   \n",
       "2413  6.11         Fantasy  No description available for this anime.    Movie   \n",
       "2414  6.48  Comedy, Sci-Fi  No description available for this anime.  Special   \n",
       "\n",
       "     Episodes        Aired Premiered  ...            Studios   Source  \\\n",
       "2412      1.0  Mar 7, 1998   UNKNOWN  ...  Shin-Ei Animation  Unknown   \n",
       "2413      1.0  Mar 6, 1999   UNKNOWN  ...  Shin-Ei Animation  Unknown   \n",
       "2414      1.0  Jan 2, 1987   UNKNOWN  ...            UNKNOWN  Unknown   \n",
       "\n",
       "     Duration         Rating    Rank Popularity Favorites Scored By  Members  \\\n",
       "2412   16 min  PG - Children  7118.0      11312         0     652.0     1583   \n",
       "2413   16 min  PG - Children  8295.0      11634         0     531.0     1405   \n",
       "2414   22 min  PG - Children  6467.0      10959         1     775.0     1814   \n",
       "\n",
       "                                              Image URL  \n",
       "2412  https://cdn.myanimelist.net/images/anime/11/31...  \n",
       "2413  https://cdn.myanimelist.net/images/anime/1400/...  \n",
       "2414  https://cdn.myanimelist.net/images/anime/12/57...  \n",
       "\n",
       "[3 rows x 23 columns]"
      ]
     },
     "execution_count": 16,
     "metadata": {},
     "output_type": "execute_result"
    }
   ],
   "source": [
    "print('Table 6. Snippet of anime dataset with anime with no description.')\n",
    "df_anime.query(\"Synopsis=='No description available for this anime.'\").head(\n",
    "    3).drop('Other name', axis=1)"
   ]
  },
  {
   "cell_type": "code",
   "execution_count": 17,
   "id": "25dfda6c-8f8e-4378-8a3c-987136ff5116",
   "metadata": {
    "execution": {
     "iopub.execute_input": "2024-03-13T08:09:54.641008Z",
     "iopub.status.busy": "2024-03-13T08:09:54.640750Z",
     "iopub.status.idle": "2024-03-13T08:09:54.652727Z",
     "shell.execute_reply": "2024-03-13T08:09:54.652042Z",
     "shell.execute_reply.started": "2024-03-13T08:09:54.640986Z"
    },
    "tags": []
   },
   "outputs": [],
   "source": [
    "df_anime_filtered = df_anime[df_anime['Synopsis']\n",
    "                             != 'No description available for this anime.']"
   ]
  },
  {
   "cell_type": "markdown",
   "id": "02cbd0b1-28fd-4d7c-a2a4-ae20b3fa8a5b",
   "metadata": {},
   "source": [
    "Due to computational limitations, the researchers decided to limit their working dataset to the top 10,000 users, selected randomly.\n",
    "\n",
    "One crucial requirement for the content-based recommender system is the utility matrix. This matrix was constructed by creating a table where the indices represent users, the columns represent animes, and the cell values represent ratings. Table 7 shows a snapshot of the utility matrix used. "
   ]
  },
  {
   "cell_type": "code",
   "execution_count": 1,
   "id": "0ddce091-48f6-4372-8a8f-4e132fbab3a6",
   "metadata": {
    "execution": {
     "iopub.execute_input": "2024-03-15T09:53:22.370104Z",
     "iopub.status.busy": "2024-03-15T09:53:22.368879Z",
     "iopub.status.idle": "2024-03-15T09:53:22.391098Z",
     "shell.execute_reply": "2024-03-15T09:53:22.389675Z",
     "shell.execute_reply.started": "2024-03-15T09:53:22.370036Z"
    },
    "tags": []
   },
   "outputs": [],
   "source": [
    "def create_util_matrix(df_anime, df_user, sample_size=10000, random_state=42):\n",
    "    \"\"\"\n",
    "    Create a utility matrix from anime and user data.\n",
    "    \"\"\"\n",
    "    anime_idx = df_anime['anime_id'].tolist()\n",
    "    df_user_content = df_user[df_user['anime_id'].isin(anime_idx)]\n",
    "    user_idx_content = df_user_content.groupby('user_id').size()\n",
    "    top_user_idx = user_idx_content.sample(\n",
    "        sample_size, random_state=random_state).index\n",
    "    df_rand_user = df_user_content[df_user_content['user_id'].isin(\n",
    "        top_user_idx)]\n",
    "    pivot_user = df_rand_user.pivot_table(\n",
    "        values=\"rating\", index=\"user_id\", columns=\"anime_id\")\n",
    "    return pivot_user, df_rand_user, user_idx_content"
   ]
  },
  {
   "cell_type": "code",
   "execution_count": 57,
   "id": "c83f8c6c-59aa-41df-9894-1e26a72a421c",
   "metadata": {
    "execution": {
     "iopub.execute_input": "2024-03-13T09:26:57.379497Z",
     "iopub.status.busy": "2024-03-13T09:26:57.377898Z",
     "iopub.status.idle": "2024-03-13T09:27:04.211065Z",
     "shell.execute_reply": "2024-03-13T09:27:04.208894Z",
     "shell.execute_reply.started": "2024-03-13T09:26:57.379431Z"
    },
    "tags": []
   },
   "outputs": [
    {
     "name": "stdout",
     "output_type": "stream",
     "text": [
      "Table 7. A snippet of User-Anime Matrix\n"
     ]
    },
    {
     "data": {
      "text/html": [
       "<div>\n",
       "<style scoped>\n",
       "    .dataframe tbody tr th:only-of-type {\n",
       "        vertical-align: middle;\n",
       "    }\n",
       "\n",
       "    .dataframe tbody tr th {\n",
       "        vertical-align: top;\n",
       "    }\n",
       "\n",
       "    .dataframe thead th {\n",
       "        text-align: right;\n",
       "    }\n",
       "</style>\n",
       "<table border=\"1\" class=\"dataframe\">\n",
       "  <thead>\n",
       "    <tr style=\"text-align: right;\">\n",
       "      <th>anime_id</th>\n",
       "      <th>1</th>\n",
       "      <th>5</th>\n",
       "      <th>6</th>\n",
       "      <th>7</th>\n",
       "      <th>8</th>\n",
       "      <th>15</th>\n",
       "      <th>16</th>\n",
       "      <th>17</th>\n",
       "      <th>18</th>\n",
       "      <th>19</th>\n",
       "      <th>20</th>\n",
       "      <th>21</th>\n",
       "      <th>22</th>\n",
       "      <th>23</th>\n",
       "      <th>24</th>\n",
       "      <th>25</th>\n",
       "      <th>26</th>\n",
       "      <th>27</th>\n",
       "      <th>28</th>\n",
       "      <th>29</th>\n",
       "    </tr>\n",
       "    <tr>\n",
       "      <th>user_id</th>\n",
       "      <th></th>\n",
       "      <th></th>\n",
       "      <th></th>\n",
       "      <th></th>\n",
       "      <th></th>\n",
       "      <th></th>\n",
       "      <th></th>\n",
       "      <th></th>\n",
       "      <th></th>\n",
       "      <th></th>\n",
       "      <th></th>\n",
       "      <th></th>\n",
       "      <th></th>\n",
       "      <th></th>\n",
       "      <th></th>\n",
       "      <th></th>\n",
       "      <th></th>\n",
       "      <th></th>\n",
       "      <th></th>\n",
       "      <th></th>\n",
       "    </tr>\n",
       "  </thead>\n",
       "  <tbody>\n",
       "    <tr>\n",
       "      <th>71</th>\n",
       "      <td>NaN</td>\n",
       "      <td>NaN</td>\n",
       "      <td>8.0</td>\n",
       "      <td>NaN</td>\n",
       "      <td>NaN</td>\n",
       "      <td>NaN</td>\n",
       "      <td>NaN</td>\n",
       "      <td>NaN</td>\n",
       "      <td>8.0</td>\n",
       "      <td>9.0</td>\n",
       "      <td>7.0</td>\n",
       "      <td>NaN</td>\n",
       "      <td>NaN</td>\n",
       "      <td>NaN</td>\n",
       "      <td>NaN</td>\n",
       "      <td>NaN</td>\n",
       "      <td>NaN</td>\n",
       "      <td>NaN</td>\n",
       "      <td>NaN</td>\n",
       "      <td>NaN</td>\n",
       "    </tr>\n",
       "    <tr>\n",
       "      <th>376</th>\n",
       "      <td>7.0</td>\n",
       "      <td>8.0</td>\n",
       "      <td>9.0</td>\n",
       "      <td>NaN</td>\n",
       "      <td>NaN</td>\n",
       "      <td>NaN</td>\n",
       "      <td>8.0</td>\n",
       "      <td>NaN</td>\n",
       "      <td>NaN</td>\n",
       "      <td>NaN</td>\n",
       "      <td>10.0</td>\n",
       "      <td>10.0</td>\n",
       "      <td>NaN</td>\n",
       "      <td>NaN</td>\n",
       "      <td>8.0</td>\n",
       "      <td>NaN</td>\n",
       "      <td>NaN</td>\n",
       "      <td>7.0</td>\n",
       "      <td>NaN</td>\n",
       "      <td>NaN</td>\n",
       "    </tr>\n",
       "    <tr>\n",
       "      <th>380</th>\n",
       "      <td>NaN</td>\n",
       "      <td>NaN</td>\n",
       "      <td>NaN</td>\n",
       "      <td>NaN</td>\n",
       "      <td>NaN</td>\n",
       "      <td>NaN</td>\n",
       "      <td>NaN</td>\n",
       "      <td>NaN</td>\n",
       "      <td>NaN</td>\n",
       "      <td>NaN</td>\n",
       "      <td>NaN</td>\n",
       "      <td>9.0</td>\n",
       "      <td>NaN</td>\n",
       "      <td>NaN</td>\n",
       "      <td>NaN</td>\n",
       "      <td>NaN</td>\n",
       "      <td>NaN</td>\n",
       "      <td>NaN</td>\n",
       "      <td>NaN</td>\n",
       "      <td>NaN</td>\n",
       "    </tr>\n",
       "    <tr>\n",
       "      <th>429</th>\n",
       "      <td>NaN</td>\n",
       "      <td>NaN</td>\n",
       "      <td>NaN</td>\n",
       "      <td>NaN</td>\n",
       "      <td>7.0</td>\n",
       "      <td>NaN</td>\n",
       "      <td>NaN</td>\n",
       "      <td>NaN</td>\n",
       "      <td>NaN</td>\n",
       "      <td>NaN</td>\n",
       "      <td>7.0</td>\n",
       "      <td>10.0</td>\n",
       "      <td>NaN</td>\n",
       "      <td>NaN</td>\n",
       "      <td>NaN</td>\n",
       "      <td>NaN</td>\n",
       "      <td>NaN</td>\n",
       "      <td>NaN</td>\n",
       "      <td>5.0</td>\n",
       "      <td>NaN</td>\n",
       "    </tr>\n",
       "    <tr>\n",
       "      <th>475</th>\n",
       "      <td>10.0</td>\n",
       "      <td>NaN</td>\n",
       "      <td>NaN</td>\n",
       "      <td>NaN</td>\n",
       "      <td>NaN</td>\n",
       "      <td>8.0</td>\n",
       "      <td>NaN</td>\n",
       "      <td>NaN</td>\n",
       "      <td>NaN</td>\n",
       "      <td>7.0</td>\n",
       "      <td>8.0</td>\n",
       "      <td>10.0</td>\n",
       "      <td>NaN</td>\n",
       "      <td>NaN</td>\n",
       "      <td>NaN</td>\n",
       "      <td>NaN</td>\n",
       "      <td>NaN</td>\n",
       "      <td>NaN</td>\n",
       "      <td>NaN</td>\n",
       "      <td>NaN</td>\n",
       "    </tr>\n",
       "  </tbody>\n",
       "</table>\n",
       "</div>"
      ],
      "text/plain": [
       "anime_id    1    5    6   7    8    15   16  17   18   19    20    21  22  23  \\\n",
       "user_id                                                                         \n",
       "71         NaN  NaN  8.0 NaN  NaN  NaN  NaN NaN  8.0  9.0   7.0   NaN NaN NaN   \n",
       "376        7.0  8.0  9.0 NaN  NaN  NaN  8.0 NaN  NaN  NaN  10.0  10.0 NaN NaN   \n",
       "380        NaN  NaN  NaN NaN  NaN  NaN  NaN NaN  NaN  NaN   NaN   9.0 NaN NaN   \n",
       "429        NaN  NaN  NaN NaN  7.0  NaN  NaN NaN  NaN  NaN   7.0  10.0 NaN NaN   \n",
       "475       10.0  NaN  NaN NaN  NaN  8.0  NaN NaN  NaN  7.0   8.0  10.0 NaN NaN   \n",
       "\n",
       "anime_id   24  25  26   27   28  29  \n",
       "user_id                              \n",
       "71        NaN NaN NaN  NaN  NaN NaN  \n",
       "376       8.0 NaN NaN  7.0  NaN NaN  \n",
       "380       NaN NaN NaN  NaN  NaN NaN  \n",
       "429       NaN NaN NaN  NaN  5.0 NaN  \n",
       "475       NaN NaN NaN  NaN  NaN NaN  "
      ]
     },
     "execution_count": 57,
     "metadata": {},
     "output_type": "execute_result"
    }
   ],
   "source": [
    "df_utility, df_rand_user, user_idx_content = create_util_matrix(\n",
    "    df_anime_filtered, df_user, sample_size=10000, random_state=42)\n",
    "print('Table 7. A snippet of User-Anime Matrix')\n",
    "df_utility.iloc[:5, :20]"
   ]
  },
  {
   "cell_type": "code",
   "execution_count": 20,
   "id": "ac73f534-7bb8-46fb-9861-2563924e12fb",
   "metadata": {
    "execution": {
     "iopub.execute_input": "2024-03-13T08:09:59.189356Z",
     "iopub.status.busy": "2024-03-13T08:09:59.189111Z",
     "iopub.status.idle": "2024-03-13T08:09:59.203286Z",
     "shell.execute_reply": "2024-03-13T08:09:59.202331Z",
     "shell.execute_reply.started": "2024-03-13T08:09:59.189335Z"
    },
    "tags": []
   },
   "outputs": [],
   "source": [
    "anime_idx = df_utility.columns.to_list()\n",
    "filtered_anime_df1 = df_anime_filtered[df_anime_filtered['anime_id'].isin(anime_idx)]"
   ]
  },
  {
   "cell_type": "markdown",
   "id": "89eaa873-59d4-4240-a40d-43fcae2802b9",
   "metadata": {},
   "source": [
    "Following this, they proceeded to lemmatize and vectorize the synopses into a bag of words using the TFIDF Vectorizer. This vectorization process generated item profiles, which serve as inputs for the content-based recommender system."
   ]
  },
  {
   "cell_type": "code",
   "execution_count": 5,
   "id": "157bb36d-fc96-45dc-9360-27c2d60146b7",
   "metadata": {
    "execution": {
     "iopub.execute_input": "2024-03-15T09:55:45.797856Z",
     "iopub.status.busy": "2024-03-15T09:55:45.796717Z",
     "iopub.status.idle": "2024-03-15T09:55:45.813271Z",
     "shell.execute_reply": "2024-03-15T09:55:45.811794Z",
     "shell.execute_reply.started": "2024-03-15T09:55:45.797790Z"
    },
    "tags": []
   },
   "outputs": [],
   "source": [
    "# Ensure that NLTK resources are downloaded (do this once)\n",
    "# nltk.download('wordnet')\n",
    "# nltk.download('stopwords')\n",
    "\n",
    "# Lemmatization function\n",
    "def lemmatize_text(text):\n",
    "    \"\"\"Lemmatize the input text\"\"\"\n",
    "    lemmatizer = WordNetLemmatizer()\n",
    "    word_list = nltk.word_tokenize(text)\n",
    "    return ' '.join([lemmatizer.lemmatize(w) for w in word_list])\n",
    "\n",
    "\n",
    "# Suppress SettingWithCopyWarning\n",
    "pd.options.mode.chained_assignment = None  # default='warn'\n",
    "\n",
    "\n",
    "def create_tfidf(df_anime, df_utility):\n",
    "    \"\"\"Create TF-IDF matrix for anime synopses.\"\"\"\n",
    "    filtered_anime_df1['Synopsis'] = filtered_anime_df1['Synopsis'].map(\n",
    "        lambda text: re.sub('[^a-zA-Z]', ' ', text).lower())\n",
    "    filtered_anime_df1['Synopsis'] = filtered_anime_df1['Synopsis'].apply(\n",
    "        lemmatize_text)\n",
    "    vectorizer = TfidfVectorizer(stop_words=stopwords.words('english'),\n",
    "                                 min_df=0.01,\n",
    "                                 max_df=0.95)\n",
    "    tfidf_matrix = vectorizer.fit_transform(filtered_anime_df1['Synopsis'])\n",
    "    return pd.DataFrame(tfidf_matrix.toarray(),\n",
    "                        columns=vectorizer.get_feature_names_out(),\n",
    "                        index=df_utility.columns)"
   ]
  },
  {
   "cell_type": "code",
   "execution_count": 22,
   "id": "19cb08ac-eee2-4d17-980b-31a3b66844a2",
   "metadata": {
    "execution": {
     "iopub.execute_input": "2024-03-13T08:09:59.212279Z",
     "iopub.status.busy": "2024-03-13T08:09:59.212067Z",
     "iopub.status.idle": "2024-03-13T08:10:08.719528Z",
     "shell.execute_reply": "2024-03-13T08:10:08.718456Z",
     "shell.execute_reply.started": "2024-03-13T08:09:59.212259Z"
    },
    "tags": []
   },
   "outputs": [
    {
     "name": "stdout",
     "output_type": "stream",
     "text": [
      "Table 8. Snippet of TF-IDF matrix of anime synopses.\n"
     ]
    },
    {
     "data": {
      "text/html": [
       "<div>\n",
       "<style scoped>\n",
       "    .dataframe tbody tr th:only-of-type {\n",
       "        vertical-align: middle;\n",
       "    }\n",
       "\n",
       "    .dataframe tbody tr th {\n",
       "        vertical-align: top;\n",
       "    }\n",
       "\n",
       "    .dataframe thead th {\n",
       "        text-align: right;\n",
       "    }\n",
       "</style>\n",
       "<table border=\"1\" class=\"dataframe\">\n",
       "  <thead>\n",
       "    <tr style=\"text-align: right;\">\n",
       "      <th></th>\n",
       "      <th>abandoned</th>\n",
       "      <th>ability</th>\n",
       "      <th>able</th>\n",
       "      <th>academy</th>\n",
       "      <th>accident</th>\n",
       "      <th>accidentally</th>\n",
       "      <th>across</th>\n",
       "      <th>act</th>\n",
       "      <th>action</th>\n",
       "      <th>activity</th>\n",
       "      <th>actually</th>\n",
       "      <th>adult</th>\n",
       "      <th>adventure</th>\n",
       "      <th>age</th>\n",
       "      <th>ago</th>\n",
       "      <th>ai</th>\n",
       "      <th>aim</th>\n",
       "      <th>aired</th>\n",
       "      <th>alien</th>\n",
       "      <th>ally</th>\n",
       "    </tr>\n",
       "    <tr>\n",
       "      <th>anime_id</th>\n",
       "      <th></th>\n",
       "      <th></th>\n",
       "      <th></th>\n",
       "      <th></th>\n",
       "      <th></th>\n",
       "      <th></th>\n",
       "      <th></th>\n",
       "      <th></th>\n",
       "      <th></th>\n",
       "      <th></th>\n",
       "      <th></th>\n",
       "      <th></th>\n",
       "      <th></th>\n",
       "      <th></th>\n",
       "      <th></th>\n",
       "      <th></th>\n",
       "      <th></th>\n",
       "      <th></th>\n",
       "      <th></th>\n",
       "      <th></th>\n",
       "    </tr>\n",
       "  </thead>\n",
       "  <tbody>\n",
       "    <tr>\n",
       "      <th>1</th>\n",
       "      <td>0.0</td>\n",
       "      <td>0.0</td>\n",
       "      <td>0.000000</td>\n",
       "      <td>0.0</td>\n",
       "      <td>0.0</td>\n",
       "      <td>0.0</td>\n",
       "      <td>0.141130</td>\n",
       "      <td>0.0</td>\n",
       "      <td>0.000000</td>\n",
       "      <td>0.0</td>\n",
       "      <td>0.0</td>\n",
       "      <td>0.0</td>\n",
       "      <td>0.000000</td>\n",
       "      <td>0.0</td>\n",
       "      <td>0.0</td>\n",
       "      <td>0.0</td>\n",
       "      <td>0.0</td>\n",
       "      <td>0.0</td>\n",
       "      <td>0.0</td>\n",
       "      <td>0.0</td>\n",
       "    </tr>\n",
       "    <tr>\n",
       "      <th>5</th>\n",
       "      <td>0.0</td>\n",
       "      <td>0.0</td>\n",
       "      <td>0.000000</td>\n",
       "      <td>0.0</td>\n",
       "      <td>0.0</td>\n",
       "      <td>0.0</td>\n",
       "      <td>0.166721</td>\n",
       "      <td>0.0</td>\n",
       "      <td>0.172253</td>\n",
       "      <td>0.0</td>\n",
       "      <td>0.0</td>\n",
       "      <td>0.0</td>\n",
       "      <td>0.000000</td>\n",
       "      <td>0.0</td>\n",
       "      <td>0.0</td>\n",
       "      <td>0.0</td>\n",
       "      <td>0.0</td>\n",
       "      <td>0.0</td>\n",
       "      <td>0.0</td>\n",
       "      <td>0.0</td>\n",
       "    </tr>\n",
       "    <tr>\n",
       "      <th>6</th>\n",
       "      <td>0.0</td>\n",
       "      <td>0.0</td>\n",
       "      <td>0.000000</td>\n",
       "      <td>0.0</td>\n",
       "      <td>0.0</td>\n",
       "      <td>0.0</td>\n",
       "      <td>0.000000</td>\n",
       "      <td>0.0</td>\n",
       "      <td>0.000000</td>\n",
       "      <td>0.0</td>\n",
       "      <td>0.0</td>\n",
       "      <td>0.0</td>\n",
       "      <td>0.000000</td>\n",
       "      <td>0.0</td>\n",
       "      <td>0.0</td>\n",
       "      <td>0.0</td>\n",
       "      <td>0.0</td>\n",
       "      <td>0.0</td>\n",
       "      <td>0.0</td>\n",
       "      <td>0.0</td>\n",
       "    </tr>\n",
       "    <tr>\n",
       "      <th>7</th>\n",
       "      <td>0.0</td>\n",
       "      <td>0.0</td>\n",
       "      <td>0.000000</td>\n",
       "      <td>0.0</td>\n",
       "      <td>0.0</td>\n",
       "      <td>0.0</td>\n",
       "      <td>0.000000</td>\n",
       "      <td>0.0</td>\n",
       "      <td>0.000000</td>\n",
       "      <td>0.0</td>\n",
       "      <td>0.0</td>\n",
       "      <td>0.0</td>\n",
       "      <td>0.000000</td>\n",
       "      <td>0.0</td>\n",
       "      <td>0.0</td>\n",
       "      <td>0.0</td>\n",
       "      <td>0.0</td>\n",
       "      <td>0.0</td>\n",
       "      <td>0.0</td>\n",
       "      <td>0.0</td>\n",
       "    </tr>\n",
       "    <tr>\n",
       "      <th>8</th>\n",
       "      <td>0.0</td>\n",
       "      <td>0.0</td>\n",
       "      <td>0.139239</td>\n",
       "      <td>0.0</td>\n",
       "      <td>0.0</td>\n",
       "      <td>0.0</td>\n",
       "      <td>0.000000</td>\n",
       "      <td>0.0</td>\n",
       "      <td>0.000000</td>\n",
       "      <td>0.0</td>\n",
       "      <td>0.0</td>\n",
       "      <td>0.0</td>\n",
       "      <td>0.141551</td>\n",
       "      <td>0.0</td>\n",
       "      <td>0.0</td>\n",
       "      <td>0.0</td>\n",
       "      <td>0.0</td>\n",
       "      <td>0.0</td>\n",
       "      <td>0.0</td>\n",
       "      <td>0.0</td>\n",
       "    </tr>\n",
       "  </tbody>\n",
       "</table>\n",
       "</div>"
      ],
      "text/plain": [
       "          abandoned  ability      able  academy  accident  accidentally  \\\n",
       "anime_id                                                                  \n",
       "1               0.0      0.0  0.000000      0.0       0.0           0.0   \n",
       "5               0.0      0.0  0.000000      0.0       0.0           0.0   \n",
       "6               0.0      0.0  0.000000      0.0       0.0           0.0   \n",
       "7               0.0      0.0  0.000000      0.0       0.0           0.0   \n",
       "8               0.0      0.0  0.139239      0.0       0.0           0.0   \n",
       "\n",
       "            across  act    action  activity  actually  adult  adventure  age  \\\n",
       "anime_id                                                                       \n",
       "1         0.141130  0.0  0.000000       0.0       0.0    0.0   0.000000  0.0   \n",
       "5         0.166721  0.0  0.172253       0.0       0.0    0.0   0.000000  0.0   \n",
       "6         0.000000  0.0  0.000000       0.0       0.0    0.0   0.000000  0.0   \n",
       "7         0.000000  0.0  0.000000       0.0       0.0    0.0   0.000000  0.0   \n",
       "8         0.000000  0.0  0.000000       0.0       0.0    0.0   0.141551  0.0   \n",
       "\n",
       "          ago   ai  aim  aired  alien  ally  \n",
       "anime_id                                     \n",
       "1         0.0  0.0  0.0    0.0    0.0   0.0  \n",
       "5         0.0  0.0  0.0    0.0    0.0   0.0  \n",
       "6         0.0  0.0  0.0    0.0    0.0   0.0  \n",
       "7         0.0  0.0  0.0    0.0    0.0   0.0  \n",
       "8         0.0  0.0  0.0    0.0    0.0   0.0  "
      ]
     },
     "execution_count": 22,
     "metadata": {},
     "output_type": "execute_result"
    }
   ],
   "source": [
    "print('Table 8. Snippet of TF-IDF matrix of anime synopses.')\n",
    "tfidf_df = create_tfidf(df_anime, df_utility)\n",
    "tfidf_df.iloc[:5, :20]"
   ]
  },
  {
   "cell_type": "markdown",
   "id": "ce13acbb-e710-4f89-bec0-7cdb02fd7e9c",
   "metadata": {},
   "source": [
    "Regarding the dataset required for the collaborative-filtering recommender systems, the preprocessing step indicated that the `user_score` dataframe was sufficiently clean for training collaborative filtering recommender systems."
   ]
  },
  {
   "cell_type": "markdown",
   "id": "ca75f06e-f22d-4565-9960-8c53052ce049",
   "metadata": {},
   "source": [
    "### Recommender System Development"
   ]
  },
  {
   "cell_type": "markdown",
   "id": "ab05fc1b-a0d9-4b85-bf62-3b62974b419b",
   "metadata": {},
   "source": [
    "The researchers developed two recommender systems using the collaborative filtering method: a user-based and an item-based system, along with one content-based recommender system.\n",
    "\n",
    "For the collaborative filtering recommender system, which predicts the rating of an unrated anime based on how similar users have rated it or based on how the target user has rated similar animes, the team utilized the `Surprise` Python library. Surprise is designed for building and evaluating recommender systems, providing a simple and efficient framework for collaborative filtering algorithms (Hug, 2020).\n",
    "\n",
    "The team employed the KNNBasic algorithm from the Surprise package for this study. For both user-based and item-based recommenders, they set the following parameters: min_k = 5 and k = 50. These parameters dictate that the algorithm must find at least 5 similar users before generating recommendations."
   ]
  },
  {
   "cell_type": "code",
   "execution_count": 6,
   "id": "93bbf3bd-5fa5-4b8e-9918-3b6b0db70cb5",
   "metadata": {
    "execution": {
     "iopub.execute_input": "2024-03-15T09:56:29.383279Z",
     "iopub.status.busy": "2024-03-15T09:56:29.382542Z",
     "iopub.status.idle": "2024-03-15T09:56:29.396725Z",
     "shell.execute_reply": "2024-03-15T09:56:29.395043Z",
     "shell.execute_reply.started": "2024-03-15T09:56:29.383219Z"
    },
    "tags": []
   },
   "outputs": [],
   "source": [
    "def recommend_collab(df_rand_user, user_based=True):\n",
    "    \"\"\"Get predictions and model using collaborative filtering.\"\"\"\n",
    "    reader = Reader(rating_scale=(1, 10))\n",
    "    data = Dataset.load_from_df(\n",
    "        pd.DataFrame(df_rand_user, columns=['user_id', 'anime_id', 'rating']),\n",
    "        reader)\n",
    "    trainset, testset = train_test_split(data, test_size=0.25, random_state=26)\n",
    "    sim_options = {'name': 'pearson', 'user_based': user_based}\n",
    "    algo = KNNBasic(sim_options=sim_options, k=50, min_k=5, verbose=False)\n",
    "    algo.fit(trainset)\n",
    "    predictions = algo.test(testset)\n",
    "    return predictions, algo"
   ]
  },
  {
   "cell_type": "code",
   "execution_count": 24,
   "id": "ae7436b0-49b2-4b2f-b223-77c029b40a09",
   "metadata": {
    "execution": {
     "iopub.execute_input": "2024-03-13T08:10:08.728616Z",
     "iopub.status.busy": "2024-03-13T08:10:08.728408Z",
     "iopub.status.idle": "2024-03-13T08:13:26.659924Z",
     "shell.execute_reply": "2024-03-13T08:13:26.658851Z",
     "shell.execute_reply.started": "2024-03-13T08:10:08.728597Z"
    },
    "tags": []
   },
   "outputs": [],
   "source": [
    "predictions_user, algo_user = recommend_collab(df_rand_user, user_based=True)\n",
    "predictions_item, algo_item = recommend_collab(df_rand_user, user_based=False)"
   ]
  },
  {
   "cell_type": "code",
   "execution_count": 25,
   "id": "95387a60-101a-470a-9735-0bc2972fe9ad",
   "metadata": {
    "execution": {
     "iopub.execute_input": "2024-03-13T08:13:26.661315Z",
     "iopub.status.busy": "2024-03-13T08:13:26.661077Z",
     "iopub.status.idle": "2024-03-13T08:14:04.944880Z",
     "shell.execute_reply": "2024-03-13T08:14:04.943276Z",
     "shell.execute_reply.started": "2024-03-13T08:13:26.661293Z"
    },
    "tags": []
   },
   "outputs": [],
   "source": [
    "# Save the trained model to a file\n",
    "joblib.dump(algo_user, 'collaborative_filtering_model.pkl')\n",
    "loaded_model = joblib.load('collaborative_filtering_model.pkl')\n",
    "\n",
    "# Save the trained model to a file\n",
    "joblib.dump(algo_item, 'collaborative_filtering_model_item.pkl')\n",
    "loaded_model_item = joblib.load('collaborative_filtering_model_item.pkl')"
   ]
  },
  {
   "cell_type": "markdown",
   "id": "51121ab9-a1ac-4aec-a4b4-f83d4a20ddc3",
   "metadata": {},
   "source": [
    "Regarding the content-based algorithm, the team employed custom code following the algorithm of a content-based recommender system. This involves creating an item profile, generating the user profile of a target user using numeric aggregation, and calculating the cosine distance of the user profile with other unrated animes to return the ones with the closest similarity."
   ]
  },
  {
   "cell_type": "code",
   "execution_count": 7,
   "id": "88dfc5d5-b9ac-4164-8dcb-ec477edfa059",
   "metadata": {
    "execution": {
     "iopub.execute_input": "2024-03-15T09:56:49.629982Z",
     "iopub.status.busy": "2024-03-15T09:56:49.629233Z",
     "iopub.status.idle": "2024-03-15T09:56:49.640765Z",
     "shell.execute_reply": "2024-03-15T09:56:49.639104Z",
     "shell.execute_reply.started": "2024-03-15T09:56:49.629906Z"
    },
    "tags": []
   },
   "outputs": [],
   "source": [
    "def compute_user_profile_agg_numeric(df_utility, df_item_profiles, user):\n",
    "    \"\"\"Compute the user profile using numeric aggregation.\"\"\"\n",
    "    user_ratings = df_utility.loc[user]\n",
    "    mean_rating = user_ratings.mean()\n",
    "    centered_ratings = user_ratings - mean_rating\n",
    "    weighted_profiles = df_item_profiles.mul(centered_ratings, axis=0)\n",
    "    user_profile = weighted_profiles.mean()\n",
    "    return user_profile"
   ]
  },
  {
   "cell_type": "code",
   "execution_count": 8,
   "id": "2e2abbe4-938e-4d14-8e6d-f446aea55b9d",
   "metadata": {
    "execution": {
     "iopub.execute_input": "2024-03-15T09:57:11.199534Z",
     "iopub.status.busy": "2024-03-15T09:57:11.198785Z",
     "iopub.status.idle": "2024-03-15T09:57:11.212905Z",
     "shell.execute_reply": "2024-03-15T09:57:11.210767Z",
     "shell.execute_reply.started": "2024-03-15T09:57:11.199465Z"
    },
    "tags": []
   },
   "outputs": [],
   "source": [
    "def recommend_agg_numeric(df_utility, df_item_profiles, user_profile, user):\n",
    "    \"\"\"Recommend items using aggregated numeric profiles.\"\"\"\n",
    "    nan_idx = np.isnan(df_utility.loc[user])\n",
    "    items = df_item_profiles.loc[nan_idx]\n",
    "    ratings = sorted(\n",
    "        [\n",
    "            (i, cosine(item, user_profile))\n",
    "            for i, item in items.iterrows()\n",
    "            if cosine(item, user_profile) > 0\n",
    "        ],\n",
    "        key=lambda x: (x[1], x[0]),\n",
    "    )\n",
    "    return [i for i, _ in ratings]"
   ]
  },
  {
   "cell_type": "code",
   "execution_count": 9,
   "id": "1ab2fc4a-6203-433f-8658-640b7a5c4c0a",
   "metadata": {
    "execution": {
     "iopub.execute_input": "2024-03-15T09:58:32.961305Z",
     "iopub.status.busy": "2024-03-15T09:58:32.960550Z",
     "iopub.status.idle": "2024-03-15T09:58:32.973198Z",
     "shell.execute_reply": "2024-03-15T09:58:32.970666Z",
     "shell.execute_reply.started": "2024-03-15T09:58:32.961246Z"
    },
    "tags": []
   },
   "outputs": [],
   "source": [
    "def recommended_anime_content(list_id, df_anime):\n",
    "    \"\"\"Extract recommended anime content from the given list of IDs.\"\"\"\n",
    "    df_anime_reco = pd.DataFrame(columns=df_anime.columns)\n",
    "    \n",
    "    for id in list_id:\n",
    "        row_reco = df_anime[df_anime['anime_id']==id]\n",
    "        df_anime_reco = pd.concat([df_anime_reco, row_reco], ignore_index=True)\n",
    "        \n",
    "    return df_anime_reco"
   ]
  },
  {
   "cell_type": "code",
   "execution_count": 31,
   "id": "62140a59-7935-4177-b485-c3df9e23c57a",
   "metadata": {
    "execution": {
     "iopub.execute_input": "2024-03-13T08:50:59.698875Z",
     "iopub.status.busy": "2024-03-13T08:50:59.697403Z",
     "iopub.status.idle": "2024-03-13T08:50:59.854233Z",
     "shell.execute_reply": "2024-03-13T08:50:59.853180Z",
     "shell.execute_reply.started": "2024-03-13T08:50:59.698806Z"
    }
   },
   "outputs": [],
   "source": [
    "user = 21142\n",
    "user_profile = compute_user_profile_agg_numeric(df_utility, tfidf_df, user)"
   ]
  },
  {
   "cell_type": "markdown",
   "id": "403a4555-9f98-4ee3-91da-be277bf2ec43",
   "metadata": {},
   "source": [
    "<div>\n",
    "<img src='pics/rnd.png' width=\"100%\", max_height=\"100\">\n",
    "</div>"
   ]
  },
  {
   "cell_type": "code",
   "execution_count": 10,
   "id": "2f979b27-70ba-48ad-947c-04240d647d61",
   "metadata": {
    "execution": {
     "iopub.execute_input": "2024-03-15T09:59:02.951318Z",
     "iopub.status.busy": "2024-03-15T09:59:02.950518Z",
     "iopub.status.idle": "2024-03-15T09:59:02.966033Z",
     "shell.execute_reply": "2024-03-15T09:59:02.964625Z",
     "shell.execute_reply.started": "2024-03-15T09:59:02.951248Z"
    },
    "tags": []
   },
   "outputs": [],
   "source": [
    "def get_reco_cf(df_top_user, user, algo, df_anime):\n",
    "    \"\"\"Get collaborative filtering recommendations for a user.\"\"\"\n",
    "    user_items = df_top_user[df_top_user['user_id']\n",
    "                             == user]['anime_id'].tolist()\n",
    "    all_items = df_top_user['anime_id'].unique()\n",
    "    not_rated_items = [item for item in all_items if item not in user_items]\n",
    "    recommendations = [algo.predict(user, item) for item in not_rated_items]\n",
    "    recommendations.sort(key=lambda x: x.est, reverse=True)\n",
    "    recommended_items = [pred.iid for pred in recommendations]\n",
    "    df_anime_reco = pd.DataFrame(columns=df_anime.columns)\n",
    "\n",
    "    for id in recommended_items:\n",
    "        row_reco = df_anime[df_anime['anime_id'] == id]\n",
    "        df_anime_reco = pd.concat([df_anime_reco, row_reco], ignore_index=True)\n",
    "\n",
    "    return df_anime_reco"
   ]
  },
  {
   "cell_type": "code",
   "execution_count": 11,
   "id": "967a35df-6c11-45f2-89c3-e5dbcc76b6c7",
   "metadata": {
    "execution": {
     "iopub.execute_input": "2024-03-15T09:59:24.071890Z",
     "iopub.status.busy": "2024-03-15T09:59:24.071182Z",
     "iopub.status.idle": "2024-03-15T09:59:24.088604Z",
     "shell.execute_reply": "2024-03-15T09:59:24.087175Z",
     "shell.execute_reply.started": "2024-03-15T09:59:24.071832Z"
    },
    "tags": []
   },
   "outputs": [],
   "source": [
    "def filter_recos(df, n=10):\n",
    "    \"\"\"Filter recommended anime based on certain criteria.\"\"\"\n",
    "    to_exclude_genres = [\n",
    "        'Boys Love',\n",
    "        'Ecchi',\n",
    "        'Erotica',\n",
    "        'Girls Love',\n",
    "        'UNKNOWN'\n",
    "    ]\n",
    "    to_exclude_ratings = [\n",
    "        # 'R - 17+ (violence & profanity)',\n",
    "        'R+ - Mild Nudity',\n",
    "        'Rx - Hentai',\n",
    "        'UNKNOWN']\n",
    "\n",
    "    to_exclude_type = [\n",
    "        'Special',\n",
    "        'Music',\n",
    "        'UNKNOWN'\n",
    "    ]\n",
    "    def should_include(genres_list):\n",
    "        return not any(genre in to_exclude_genres for genre in genres_list)\n",
    "\n",
    "    to_exclude_rank = ['0.0', 'UNKNOWN']\n",
    "    df['Genres'] = df['Genres'].str.split(', ')\n",
    "    df = df[df['Genres'].apply(should_include)]\n",
    "    df = df[~df['Rating'].isin(to_exclude_ratings)]\n",
    "    df = df[~df['Type'].isin(to_exclude_type)]\n",
    "    df = df[df[\"Synopsis\"] != \"No description available for this anime.\"]\n",
    "    df = df[~df['Rank'].isin(to_exclude_rank)]\n",
    "    df = df[df['Popularity']!=0]\n",
    "    df['Rank'] =  pd.to_numeric(df['Rank'], downcast='integer')\n",
    "    df = df[~df['Rank']<100]\n",
    "    return df.head(n)"
   ]
  },
  {
   "cell_type": "code",
   "execution_count": 77,
   "id": "b5becc49-f518-4030-b783-794309490e1f",
   "metadata": {
    "execution": {
     "iopub.execute_input": "2024-03-13T13:11:23.565708Z",
     "iopub.status.busy": "2024-03-13T13:11:23.564949Z",
     "iopub.status.idle": "2024-03-13T13:11:53.679956Z",
     "shell.execute_reply": "2024-03-13T13:11:53.678356Z",
     "shell.execute_reply.started": "2024-03-13T13:11:23.565644Z"
    },
    "tags": []
   },
   "outputs": [],
   "source": [
    "df_anime_reco_user = get_reco_cf(df_rand_user, user, loaded_model, df_anime)\n",
    "user_cf_recos = filter_recos(df_anime_reco_user).Name.tolist()"
   ]
  },
  {
   "cell_type": "code",
   "execution_count": 79,
   "id": "3a505ba1-7bbc-4e3a-b19e-7e77e8e97601",
   "metadata": {
    "execution": {
     "iopub.execute_input": "2024-03-13T13:13:50.917877Z",
     "iopub.status.busy": "2024-03-13T13:13:50.917109Z",
     "iopub.status.idle": "2024-03-13T13:14:20.996653Z",
     "shell.execute_reply": "2024-03-13T13:14:20.994115Z",
     "shell.execute_reply.started": "2024-03-13T13:13:50.917810Z"
    },
    "tags": []
   },
   "outputs": [],
   "source": [
    "df_anime_reco_item = get_reco_cf(df_rand_user, user, loaded_model_item, df_anime)\n",
    "item_cf_recos = filter_recos(df_anime_reco_item).Name.tolist()"
   ]
  },
  {
   "cell_type": "code",
   "execution_count": 84,
   "id": "a13459f1-6fbd-43a5-94fd-157e1a7a8a6e",
   "metadata": {
    "execution": {
     "iopub.execute_input": "2024-03-13T13:22:12.691864Z",
     "iopub.status.busy": "2024-03-13T13:22:12.691124Z",
     "iopub.status.idle": "2024-03-13T13:22:44.141221Z",
     "shell.execute_reply": "2024-03-13T13:22:44.138978Z",
     "shell.execute_reply.started": "2024-03-13T13:22:12.691800Z"
    },
    "tags": []
   },
   "outputs": [],
   "source": [
    "list_anime = recommend_agg_numeric(df_utility, tfidf_df, user_profile, user)\n",
    "cb_recos = recommended_anime_content(list_anime, df_anime).Name.tolist()[:10]"
   ]
  },
  {
   "cell_type": "code",
   "execution_count": 115,
   "id": "bbb438ce-4b99-43de-a7b5-00d0fed1eeb2",
   "metadata": {
    "execution": {
     "iopub.execute_input": "2024-03-15T06:37:58.218788Z",
     "iopub.status.busy": "2024-03-15T06:37:58.217383Z",
     "iopub.status.idle": "2024-03-15T06:37:58.425665Z",
     "shell.execute_reply": "2024-03-15T06:37:58.424567Z",
     "shell.execute_reply.started": "2024-03-15T06:37:58.218722Z"
    },
    "tags": []
   },
   "outputs": [],
   "source": [
    "anime_rated = df_user.query(\"user_id==21142\")[\n",
    "    'Anime Title'].tolist() + (['-'] * 3)"
   ]
  },
  {
   "cell_type": "markdown",
   "id": "c2e50061-648d-45a0-bc45-e6b2e912c18b",
   "metadata": {},
   "source": [
    "To analyze the results, we summarize the anime that `User 21142` watched and rated, along with the top 10 recommendations from User-based CF, Item-based CF, and content-based recommendation systems in the table below."
   ]
  },
  {
   "cell_type": "code",
   "execution_count": 106,
   "id": "164170b9-308e-40eb-a5ea-6f29996aedf2",
   "metadata": {
    "execution": {
     "iopub.execute_input": "2024-03-13T13:36:10.935802Z",
     "iopub.status.busy": "2024-03-13T13:36:10.935073Z",
     "iopub.status.idle": "2024-03-13T13:36:10.959893Z",
     "shell.execute_reply": "2024-03-13T13:36:10.958652Z",
     "shell.execute_reply.started": "2024-03-13T13:36:10.935742Z"
    },
    "tags": []
   },
   "outputs": [
    {
     "name": "stdout",
     "output_type": "stream",
     "text": [
      "Table 9. Top 10 anime recommendations across all methods.\n"
     ]
    },
    {
     "data": {
      "text/html": [
       "<div>\n",
       "<style scoped>\n",
       "    .dataframe tbody tr th:only-of-type {\n",
       "        vertical-align: middle;\n",
       "    }\n",
       "\n",
       "    .dataframe tbody tr th {\n",
       "        vertical-align: top;\n",
       "    }\n",
       "\n",
       "    .dataframe thead th {\n",
       "        text-align: right;\n",
       "    }\n",
       "</style>\n",
       "<table border=\"1\" class=\"dataframe\">\n",
       "  <thead>\n",
       "    <tr style=\"text-align: right;\">\n",
       "      <th></th>\n",
       "      <th>Anime Rated</th>\n",
       "      <th>User-based CF</th>\n",
       "      <th>Item-based CF</th>\n",
       "      <th>Content-based</th>\n",
       "    </tr>\n",
       "  </thead>\n",
       "  <tbody>\n",
       "    <tr>\n",
       "      <th>0</th>\n",
       "      <td>Gintama</td>\n",
       "      <td>Gintama'</td>\n",
       "      <td>Jungle wa Itsumo Hare nochi Guu Final</td>\n",
       "      <td>DNA²</td>\n",
       "    </tr>\n",
       "    <tr>\n",
       "      <th>1</th>\n",
       "      <td>Fullmetal Alchemist</td>\n",
       "      <td>Fullmetal Alchemist: Brotherhood</td>\n",
       "      <td>Tensei shitara Ken deshita</td>\n",
       "      <td>Geneshaft</td>\n",
       "    </tr>\n",
       "    <tr>\n",
       "      <th>2</th>\n",
       "      <td>Howl no Ugoku Shiro</td>\n",
       "      <td>Code Geass: Hangyaku no Lelouch R2</td>\n",
       "      <td>Nagi no Asu kara</td>\n",
       "      <td>SoniAni: Super Sonico The Animation</td>\n",
       "    </tr>\n",
       "    <tr>\n",
       "      <th>3</th>\n",
       "      <td>Kuragehime</td>\n",
       "      <td>Shouwa Genroku Rakugo Shinjuu: Sukeroku Futata...</td>\n",
       "      <td>Kyoukai no Rinne 3rd Season</td>\n",
       "      <td>Dance with Devils: Fortuna</td>\n",
       "    </tr>\n",
       "    <tr>\n",
       "      <th>4</th>\n",
       "      <td>Mawaru Penguindrum</td>\n",
       "      <td>Mushishi Zoku Shou: Suzu no Shizuku</td>\n",
       "      <td>Mayonaka no Occult Koumuin</td>\n",
       "      <td>Aniyome</td>\n",
       "    </tr>\n",
       "    <tr>\n",
       "      <th>5</th>\n",
       "      <td>Bleach</td>\n",
       "      <td>Gintama': Enchousen</td>\n",
       "      <td>Zombieland Saga Revenge</td>\n",
       "      <td>B'T X</td>\n",
       "    </tr>\n",
       "    <tr>\n",
       "      <th>6</th>\n",
       "      <td>Kuroshitsuji</td>\n",
       "      <td>Ousama Ranking</td>\n",
       "      <td>Kakuriyo no Yadomeshi</td>\n",
       "      <td>Majo Minarai wo Sagashite</td>\n",
       "    </tr>\n",
       "    <tr>\n",
       "      <th>7</th>\n",
       "      <td>-</td>\n",
       "      <td>Gintama Movie 2: Kanketsu-hen - Yorozuya yo Ei...</td>\n",
       "      <td>.hack//Liminality</td>\n",
       "      <td>Megami-ryou no Ryoubo-kun.</td>\n",
       "    </tr>\n",
       "    <tr>\n",
       "      <th>8</th>\n",
       "      <td>-</td>\n",
       "      <td>Gintama°</td>\n",
       "      <td>.hack//G.U. Returner</td>\n",
       "      <td>Diabolik Lovers</td>\n",
       "    </tr>\n",
       "    <tr>\n",
       "      <th>9</th>\n",
       "      <td>-</td>\n",
       "      <td>Ranma ½ OVA</td>\n",
       "      <td>IDOLiSH7</td>\n",
       "      <td>Oniichan wa Oshimai!</td>\n",
       "    </tr>\n",
       "  </tbody>\n",
       "</table>\n",
       "</div>"
      ],
      "text/plain": [
       "           Anime Rated                                      User-based CF  \\\n",
       "0              Gintama                                           Gintama'   \n",
       "1  Fullmetal Alchemist                   Fullmetal Alchemist: Brotherhood   \n",
       "2  Howl no Ugoku Shiro                 Code Geass: Hangyaku no Lelouch R2   \n",
       "3           Kuragehime  Shouwa Genroku Rakugo Shinjuu: Sukeroku Futata...   \n",
       "4   Mawaru Penguindrum                Mushishi Zoku Shou: Suzu no Shizuku   \n",
       "5               Bleach                                Gintama': Enchousen   \n",
       "6         Kuroshitsuji                                     Ousama Ranking   \n",
       "7                    -  Gintama Movie 2: Kanketsu-hen - Yorozuya yo Ei...   \n",
       "8                    -                                           Gintama°   \n",
       "9                    -                                        Ranma ½ OVA   \n",
       "\n",
       "                           Item-based CF                        Content-based  \n",
       "0  Jungle wa Itsumo Hare nochi Guu Final                                 DNA²  \n",
       "1             Tensei shitara Ken deshita                            Geneshaft  \n",
       "2                       Nagi no Asu kara  SoniAni: Super Sonico The Animation  \n",
       "3            Kyoukai no Rinne 3rd Season           Dance with Devils: Fortuna  \n",
       "4             Mayonaka no Occult Koumuin                              Aniyome  \n",
       "5                Zombieland Saga Revenge                                B'T X  \n",
       "6                  Kakuriyo no Yadomeshi            Majo Minarai wo Sagashite  \n",
       "7                      .hack//Liminality           Megami-ryou no Ryoubo-kun.  \n",
       "8                   .hack//G.U. Returner                      Diabolik Lovers  \n",
       "9                               IDOLiSH7                 Oniichan wa Oshimai!  "
      ]
     },
     "execution_count": 106,
     "metadata": {},
     "output_type": "execute_result"
    }
   ],
   "source": [
    "print('Table 9. Top 10 anime recommendations across all methods.')\n",
    "pd.DataFrame({\n",
    "    'Anime Rated': anime_rated,\n",
    "    'User-based CF': user_cf_recos,\n",
    "    'Item-based CF': item_cf_recos,\n",
    "    'Content-based': cb_recos\n",
    "})"
   ]
  },
  {
   "cell_type": "markdown",
   "id": "5a32a889-d646-478e-bad6-c912960d746f",
   "metadata": {},
   "source": [
    "1. User-based CF leverages the preferences of similar users to recommend items. It suggested several anime titles based on the preferences of users with similar tastes. Notable recommendations include:\n",
    "\n",
    "    - Gintama': Given the user's interest in \"Gintama,\" it's reasonable to recommend its sequels and related entries.\n",
    "    - Fullmetal Alchemist: Brotherhood: A logical recommendation considering the user's enjoyment of \"Fullmetal Alchemist.\"\n",
    "    - Code Geass: Hangyaku no Lelouch R2: This recommendation aligns with the user's preferences for popular and acclaimed anime series.\n",
    "\n",
    "2. Item-based CF suggests items similar to those the user has rated highly. It recommended anime with characteristics similar to their previously watched titles. Some of the items that were recommended include:\n",
    "\n",
    "    - Jungle wa Itsumo Hare nochi Guu Final\n",
    "    - Tensei shitara Ken deshita\n",
    "    - Nagi no Asu kara\n",
    "\n",
    "3. Content-based filtering recommends items based on their content features, specifically synopsis. The algorithm suggested anime with similar characteristics to their previously watched titles. Few recommendations include:\n",
    "\n",
    "    - DNA²\n",
    "    - Geneshaft\n",
    "    - SoniAni: Super Sonico The Animation\n",
    "\n",
    "Overall, each recommendation method offers unique insights into the user's preferences and introduces diversity, serendipity, and novelty in recommendations:\n",
    "\n",
    "- User-based CF provides personalized recommendations based on similar user preferences, catering to the user's specific tastes. But, it might overlook niche or less popular titles that could also appeal to the user.\n",
    "- Item-based CF suggests items similar to the user's highly rated anime, offering a variety of choices within similar content domains. However, item-based CF may overlook diverse preferences and may not introduce the user to new genres or styles.\n",
    "- Content-based filtering recommends anime based on thematic and stylistic similarities, introducing the user to potentially new but relevant content. It offers recommendations based on the intrinsic features of the items, providing a diverse range of suggestions."
   ]
  },
  {
   "cell_type": "code",
   "execution_count": 12,
   "id": "9ae7759f-8af8-4aa5-8774-ff17f0f774c4",
   "metadata": {
    "execution": {
     "iopub.execute_input": "2024-03-15T09:59:45.662373Z",
     "iopub.status.busy": "2024-03-15T09:59:45.661635Z",
     "iopub.status.idle": "2024-03-15T09:59:45.679466Z",
     "shell.execute_reply": "2024-03-15T09:59:45.677787Z",
     "shell.execute_reply.started": "2024-03-15T09:59:45.662310Z"
    },
    "tags": []
   },
   "outputs": [],
   "source": [
    "def get_mae_baseline(df_utility):    \n",
    "    \"\"\"Calculate the Mean Absolute Error (MAE) for a baseline model.\"\"\"\n",
    "    user_count = df_utility.count(axis=1)\n",
    "    user_at_least_10 = user_count[user_count>=10]\n",
    "    mae_list = []\n",
    "    for idx in user_at_least_10.index:\n",
    "        random.seed(42)\n",
    "        user_rated = df_utility.loc[idx].dropna()\n",
    "        random_10_idx = random.sample(user_rated.index.tolist(), 10)\n",
    "        remove_5_idx = random.sample(random_10_idx, 5)\n",
    "        ground_truth = user_rated.loc[remove_5_idx]\n",
    "        naive_ratings = user_rated.loc[random_10_idx]\n",
    "        naive_ratings.loc[remove_5_idx] = naive_ratings.drop(remove_5_idx).median()\n",
    "        mae = abs(ground_truth - naive_ratings.loc[remove_5_idx]).mean()\n",
    "        mae_list.append(mae)\n",
    "    return pd.Series(mae_list).mean()"
   ]
  },
  {
   "cell_type": "code",
   "execution_count": 67,
   "id": "1ba98dff-1e24-482f-8142-6d41ab70b132",
   "metadata": {
    "execution": {
     "iopub.execute_input": "2024-03-13T11:36:15.215620Z",
     "iopub.status.busy": "2024-03-13T11:36:15.214887Z",
     "iopub.status.idle": "2024-03-13T11:36:31.256370Z",
     "shell.execute_reply": "2024-03-13T11:36:31.254730Z",
     "shell.execute_reply.started": "2024-03-13T11:36:15.215559Z"
    },
    "tags": []
   },
   "outputs": [],
   "source": [
    "mae_baseline = round(get_mae_baseline(df_utility), 2)"
   ]
  },
  {
   "cell_type": "markdown",
   "id": "1fe7718f-dbee-4f0c-ac8d-e68d38220f67",
   "metadata": {},
   "source": [
    "### Performance Evaluation"
   ]
  },
  {
   "cell_type": "markdown",
   "id": "254c3724-ac00-497b-b1fd-5bbe954e5e9a",
   "metadata": {},
   "source": [
    "To evaluate the performance of the recommender systems, the team employed specific performance metrics tailored to each approach:"
   ]
  },
  {
   "cell_type": "code",
   "execution_count": 66,
   "id": "de97496d-6e2c-41f1-ab3f-fff63f9d1504",
   "metadata": {
    "execution": {
     "iopub.execute_input": "2024-03-13T11:35:26.902125Z",
     "iopub.status.busy": "2024-03-13T11:35:26.901389Z",
     "iopub.status.idle": "2024-03-13T11:35:27.155449Z",
     "shell.execute_reply": "2024-03-13T11:35:27.154403Z",
     "shell.execute_reply.started": "2024-03-13T11:35:26.902062Z"
    },
    "tags": []
   },
   "outputs": [],
   "source": [
    "mae_user = round(accuracy.mae(predictions_user, verbose=False), 2)\n",
    "mae_item = round(accuracy.mae(predictions_item, verbose=False), 2)"
   ]
  },
  {
   "cell_type": "markdown",
   "id": "3ea0dec8-cfcf-4489-9772-326c5b1e2c55",
   "metadata": {},
   "source": [
    "**For the collaborative filtering recommender systems:**\n",
    "\n",
    "The `Surprise` models employed the train_test split method to generate performance metrics. The team focused on optimizing Mean Absolute Error (MAE), as it provides a straightforward understanding of the deviation between actual and predicted rating.\n",
    "\n",
    "To establish a baseline for comparison, the team calculated the MAE of a list of actual ratings for individual users. They then randomly replaced some ratings with the mean rating of the same user, simulating a naive approach to impute unrated anime. The resulting baseline MAE was  1.20. Table 9. summarizes the MAE for the CF methods used."
   ]
  },
  {
   "cell_type": "code",
   "execution_count": 70,
   "id": "f5004188-f607-4ce6-9978-83c73909f590",
   "metadata": {
    "execution": {
     "iopub.execute_input": "2024-03-13T11:38:38.795819Z",
     "iopub.status.busy": "2024-03-13T11:38:38.795075Z",
     "iopub.status.idle": "2024-03-13T11:38:38.817985Z",
     "shell.execute_reply": "2024-03-13T11:38:38.816559Z",
     "shell.execute_reply.started": "2024-03-13T11:38:38.795757Z"
    },
    "tags": []
   },
   "outputs": [
    {
     "name": "stdout",
     "output_type": "stream",
     "text": [
      "Table 9. Summary of MAE for Collaborative Filtering and Naive\n"
     ]
    },
    {
     "data": {
      "text/html": [
       "<div>\n",
       "<style scoped>\n",
       "    .dataframe tbody tr th:only-of-type {\n",
       "        vertical-align: middle;\n",
       "    }\n",
       "\n",
       "    .dataframe tbody tr th {\n",
       "        vertical-align: top;\n",
       "    }\n",
       "\n",
       "    .dataframe thead th {\n",
       "        text-align: right;\n",
       "    }\n",
       "</style>\n",
       "<table border=\"1\" class=\"dataframe\">\n",
       "  <thead>\n",
       "    <tr style=\"text-align: right;\">\n",
       "      <th></th>\n",
       "      <th>Model</th>\n",
       "      <th>MAE</th>\n",
       "    </tr>\n",
       "  </thead>\n",
       "  <tbody>\n",
       "    <tr>\n",
       "      <th>0</th>\n",
       "      <td>User-based CF</td>\n",
       "      <td>1.17</td>\n",
       "    </tr>\n",
       "    <tr>\n",
       "      <th>1</th>\n",
       "      <td>Item-based CF</td>\n",
       "      <td>1.14</td>\n",
       "    </tr>\n",
       "    <tr>\n",
       "      <th>2</th>\n",
       "      <td>Naive</td>\n",
       "      <td>1.20</td>\n",
       "    </tr>\n",
       "  </tbody>\n",
       "</table>\n",
       "</div>"
      ],
      "text/plain": [
       "           Model   MAE\n",
       "0  User-based CF  1.17\n",
       "1  Item-based CF  1.14\n",
       "2          Naive  1.20"
      ]
     },
     "metadata": {},
     "output_type": "display_data"
    }
   ],
   "source": [
    "print('Table 9. Summary of MAE for Collaborative Filtering and Naive')\n",
    "display(pd.DataFrame({\n",
    "    'Model': ['User-based CF', 'Item-based CF', 'Naive'],\n",
    "    'MAE': [mae_user, mae_item, mae_baseline]\n",
    "}))"
   ]
  },
  {
   "cell_type": "markdown",
   "id": "2e6828e6-eaac-4a12-b804-0406bdeee9ff",
   "metadata": {},
   "source": [
    "For this study, the researchers was able to obtain a MAE of  1.17 for User-based CF and  1.14 for Item-based CF. Further contextualizing this value, a deviation of  1.17 or  1.14 rating above or below the expected rating is considered reasonable."
   ]
  },
  {
   "cell_type": "code",
   "execution_count": 13,
   "id": "24052a42-474f-423a-bdfa-b06eb2fa178b",
   "metadata": {
    "execution": {
     "iopub.execute_input": "2024-03-15T10:00:08.758431Z",
     "iopub.status.busy": "2024-03-15T10:00:08.757719Z",
     "iopub.status.idle": "2024-03-15T10:00:08.769829Z",
     "shell.execute_reply": "2024-03-15T10:00:08.768015Z",
     "shell.execute_reply.started": "2024-03-15T10:00:08.758372Z"
    },
    "tags": []
   },
   "outputs": [],
   "source": [
    "def ndcg_custom(df, rand_user):\n",
    "    \"\"\"Calculate Normalized Discounted Cumulative Gain (NDCG) for a given user.\n",
    "    \"\"\"\n",
    "    dcg = 0\n",
    "    idcg = 0 \n",
    "    for i, data in df.iterrows():\n",
    "        idcg += (2**data[rand_user]-1) / (np.log2(i+2))\n",
    "        dcg += (2**data['score_2']-1) / (np.log2(i+2))\n",
    "    return dcg/idcg"
   ]
  },
  {
   "cell_type": "code",
   "execution_count": 14,
   "id": "49a042ab-bd3b-4689-854b-f96e75ef9cd5",
   "metadata": {
    "execution": {
     "iopub.execute_input": "2024-03-15T10:00:27.050646Z",
     "iopub.status.busy": "2024-03-15T10:00:27.049921Z",
     "iopub.status.idle": "2024-03-15T10:00:27.070460Z",
     "shell.execute_reply": "2024-03-15T10:00:27.068853Z",
     "shell.execute_reply.started": "2024-03-15T10:00:27.050585Z"
    },
    "tags": []
   },
   "outputs": [],
   "source": [
    "def get_ndcg_cb(df_utility, tfidf_df, rand_user, seed=42):\n",
    "    \"\"\"Compute NDCG for content-based recommendations for a given user.\"\"\"\n",
    "    id_with_ratings = df_utility.loc[rand_user].dropna().sort_values(\n",
    "        ascending=False).index.tolist()\n",
    "    length_unrated = len(df_utility.loc[rand_user]) - len(\n",
    "        df_utility.loc[rand_user].dropna())\n",
    "    random.seed(seed) \n",
    "    random_choices = random.sample(id_with_ratings, 15)\n",
    "    random_ratings = df_utility.loc[rand_user, random_choices].sort_values(\n",
    "        ascending=False).reset_index()\n",
    "    ideal = random_ratings.sort_values(by=[rand_user, 'anime_id'],\n",
    "                                       ascending=[False, True])\n",
    "    df_utility_2 = df_utility.copy()\n",
    "    df_utility_2.loc[rand_user, random_choices] = np.nan\n",
    "    user_profile_2 = compute_user_profile_agg_numeric(df_utility_2, tfidf_df,\n",
    "                                                      rand_user)\n",
    "    list_anime_2 = recommend_agg_numeric(df_utility_2, tfidf_df, user_profile_2,\n",
    "                                         rand_user, length_unrated)\n",
    "    indices = [\n",
    "        list_anime_2.index(elem)\n",
    "        for elem in random_choices\n",
    "        if elem in list_anime_2\n",
    "    ]\n",
    "    zipped_list = list(zip(indices, random_choices))\n",
    "    rec_rankings = sorted(zipped_list, key=lambda x: x[0])\n",
    "    ideal['anime_id_2'] = [item[1] for item in rec_rankings]\n",
    "    # Mapping scores from anime_id to anime_id_2 to create the score_2 column\n",
    "    score_mapping = ideal.set_index('anime_id')[rand_user].to_dict()\n",
    "    ideal['score_2'] = ideal['anime_id_2'].map(score_mapping)\n",
    "    return ideal"
   ]
  },
  {
   "cell_type": "code",
   "execution_count": 15,
   "id": "8221c49d-3e49-44ad-8dd2-3f9b3fb992be",
   "metadata": {
    "execution": {
     "iopub.execute_input": "2024-03-15T10:00:43.416697Z",
     "iopub.status.busy": "2024-03-15T10:00:43.415975Z",
     "iopub.status.idle": "2024-03-15T10:00:43.429527Z",
     "shell.execute_reply": "2024-03-15T10:00:43.427607Z",
     "shell.execute_reply.started": "2024-03-15T10:00:43.416638Z"
    },
    "tags": []
   },
   "outputs": [],
   "source": [
    "def compute_mean_ndcg(user_idx_content, df_utility, tfidf_df):\n",
    "    \"\"\"Compute the mean NDCG for a subset of users.\"\"\"\n",
    "    user_id = user_idx_content.sort_values(ascending=False)[:1600].index\n",
    "    users_util = df_utility.index\n",
    "    fifty_users = [value for value in user_id if value in users_util]\n",
    "    ndcg_scores = []\n",
    "    for user in fifty_users:\n",
    "        df_id_scores = get_ndcg_cb(df_utility, tfidf_df, rand_user=user)\n",
    "        ndcg = ndcg_custom(df_id_scores, rand_user=user)\n",
    "        ndcg_scores.append(ndcg)\n",
    "    return pd.Series(ndcg_scores).mean()"
   ]
  },
  {
   "cell_type": "code",
   "execution_count": 62,
   "id": "0f25dcb5-128a-46ea-9b6d-7598dc2e0fbd",
   "metadata": {
    "execution": {
     "iopub.execute_input": "2024-03-13T09:33:06.526243Z",
     "iopub.status.busy": "2024-03-13T09:33:06.525180Z",
     "iopub.status.idle": "2024-03-13T09:35:14.491134Z",
     "shell.execute_reply": "2024-03-13T09:35:14.490109Z",
     "shell.execute_reply.started": "2024-03-13T09:33:06.526144Z"
    },
    "tags": []
   },
   "outputs": [],
   "source": [
    "mean_ndcg_cb = compute_mean_ndcg(user_idx_content, df_utility, tfidf_df)"
   ]
  },
  {
   "cell_type": "markdown",
   "id": "bf6f4c6c-3604-4594-88f5-6f7663cbcdbb",
   "metadata": {},
   "source": [
    "**For the content-based recommender sytem:**\n",
    "\n",
    "The team utilized the Normalized Discounted Cumulative Gain (NDCG) metric to assess performance. NDCG compares the actual or ideal ranking of animes with the rankings suggested by the recommender system.\n"
   ]
  },
  {
   "cell_type": "markdown",
   "id": "ff293dba-e39c-464b-9011-8cf78e11a921",
   "metadata": {
    "execution": {
     "iopub.execute_input": "2024-03-13T09:35:14.498608Z",
     "iopub.status.busy": "2024-03-13T09:35:14.498357Z",
     "iopub.status.idle": "2024-03-13T09:35:14.503102Z",
     "shell.execute_reply": "2024-03-13T09:35:14.502476Z",
     "shell.execute_reply.started": "2024-03-13T09:35:14.498588Z"
    },
    "tags": []
   },
   "source": [
    "The team's model yielded an NDCG score of  0.81. NDCG values range between 0 and 1, with values closer to 1 indicating that the recommendations closely match the ground truth ranking of animes.f animes.f animes. system."
   ]
  },
  {
   "cell_type": "markdown",
   "id": "2fc34c8d-a2d7-4b40-bbef-c1263c8a62fd",
   "metadata": {},
   "source": [
    "***Interpretation and Implications***\n",
    "\n",
    "The achieved performance metrics demonstrate the effectiveness of the developed recommender systems in providing accurate and relevant recommendations to users. The comparatively low MAE values and high NDCG score indicate that the collaborative filtering and content-based approaches successfully atains the minimum requirement of a viable recommender system."
   ]
  },
  {
   "cell_type": "markdown",
   "id": "560a7847-6a70-483f-abb5-fda0067ac276",
   "metadata": {},
   "source": [
    "<div>\n",
    "<img src='pics/conclusion.png' width=\"100%\", max_height=\"100\">\n",
    "</div>"
   ]
  },
  {
   "cell_type": "markdown",
   "id": "3868064e-fd82-4105-89bf-b85ef2243a6b",
   "metadata": {},
   "source": [
    "The team successfully developed accurate recommender systems that effectively address prevailing issues observed in existing systems, as evidenced by the achieved MAE and NDCG scores. Capitalizing on the intrinsic characteristics of user-based collaborative filtering, the team ensured recommendations that are novel, diverse, and serendipitous for users. Furthermore, for relevance, both item-based and content-based recommender systems were employed to enhance recommendation precision.\n",
    "\n",
    "Compared to crowd-sourced recommendation approaches, the team's recommender system stands out for its efficiency in providing quick and comprehensive recommendations."
   ]
  },
  {
   "cell_type": "markdown",
   "id": "feef62e4-371f-4184-9280-dc157e035183",
   "metadata": {
    "execution": {
     "iopub.execute_input": "2024-03-12T17:33:12.145285Z",
     "iopub.status.busy": "2024-03-12T17:33:12.145285Z",
     "iopub.status.idle": "2024-03-12T17:33:12.148204Z",
     "shell.execute_reply": "2024-03-12T17:33:12.148204Z",
     "shell.execute_reply.started": "2024-03-12T17:33:12.145285Z"
    }
   },
   "source": [
    "<div>\n",
    "<img src='pics/limitation.png' width=\"100%\", max_height=\"100\">\n",
    "</div"
   ]
  },
  {
   "cell_type": "markdown",
   "id": "3ee85e79-140e-4f7e-9395-1867700134b1",
   "metadata": {},
   "source": [
    "While the study provides valuable insights into recommender system performance, several limitations should be considered:\n",
    "\n",
    "- Due to resource constraints, the study could not utilize the complete dataset, potentially limiting the comprehensiveness of the findings.\n",
    "\n",
    "- The content utilized for recommendations relied solely on available synopses of the anime within the dataset. "
   ]
  },
  {
   "cell_type": "markdown",
   "id": "a20bc334-837e-44be-a014-824b655f69ea",
   "metadata": {
    "execution": {
     "iopub.execute_input": "2024-03-12T16:51:07.900059Z",
     "iopub.status.busy": "2024-03-12T16:51:07.900059Z",
     "iopub.status.idle": "2024-03-12T16:51:07.902577Z",
     "shell.execute_reply": "2024-03-12T16:51:07.902577Z",
     "shell.execute_reply.started": "2024-03-12T16:51:07.900059Z"
    }
   },
   "source": [
    "<div>\n",
    "<img src='pics/recommendation.png' width=\"100%\", max_height=\"100\">\n",
    "</div>"
   ]
  },
  {
   "cell_type": "markdown",
   "id": "216670d6-e895-4aa9-aed5-17aa7c2ad37b",
   "metadata": {},
   "source": [
    "1. Given no computational constraints, the researchers advocate for utilizing the entire dataset to enhance recommendation richness. This broader dataset incorporates more users, thereby increasing the potential for identifying similarities and capturing diverse user behaviors. Additionally, it provides a larger pool of item ratings, further enriching the recommendation process.\n",
    "\n",
    "2. In content-based approaches, exploring additional features beyond synopses, such as 'Genres', 'Producers', and 'Studios', can lead to the discovery of serendipitous recommendations and enhance recommendation diversity.\n",
    "\n",
    "3. Exploring user clustering can offer insights into broader trends, enabling the generation of targeted recommendations. Future research could investigate how demographic factors like age, gender, and country of origin influence recommendations.\n",
    "\n",
    "4. To address the common cold start problem in recommender systems, future studies could focus on designing optimized surveys to initialize user profiles for initial recommendations, thereby improving the system's effectiveness.\n"
   ]
  },
  {
   "cell_type": "markdown",
   "id": "5cf55c6b-8113-49f4-9bc4-1be229b3cd33",
   "metadata": {},
   "source": [
    "<div>\n",
    "<img src='pics/acknowledgements.png' width=\"100%\", max_height=\"100\">\n",
    "</div>"
   ]
  },
  {
   "cell_type": "markdown",
   "id": "44564d90-dff3-433c-b98e-522d0d5d7c4f",
   "metadata": {},
   "source": [
    "The researchers would like to express their heartfelt appreciation to Dr. Christian Alis and Prof. K-Ann Carandang for their consistent support and guidance during the duration the entire Data Mining and Wrangling 2 course, particularly throughout the completion of this project. \n",
    "\n",
    "Furthermore, they acknowledge OpenAI's ChatGPT-3.5 and ChatGPT-4 as supplementary tools that aid in the project's execution."
   ]
  },
  {
   "cell_type": "markdown",
   "id": "f09c265a-2c38-46be-b8be-695a6b856e2d",
   "metadata": {},
   "source": [
    "<div>\n",
    "<img src='pics/appendix.png' width=\"100%\", max_height=\"100\">\n",
    "</div>"
   ]
  },
  {
   "cell_type": "markdown",
   "id": "37e45f1e-8d00-4d5e-a153-2b2f97e948fc",
   "metadata": {},
   "source": [
    "The deployment of the recommendation systems were facilitated using Streamlit (*Please refer to streamlit folder for  the python file*)."
   ]
  },
  {
   "cell_type": "markdown",
   "id": "a81cc697-55b5-478d-946f-914484343b89",
   "metadata": {},
   "source": [
    "Appendix Figure 1. Streamlit application screenshots."
   ]
  },
  {
   "cell_type": "markdown",
   "id": "bb29900b-b887-4286-b203-2a314b522e9a",
   "metadata": {},
   "source": [
    "<div>\n",
    "    <img src='pics/streamlit1.png' width=\"50%\" height=\"auto\" style=\"max-height: 500px;\">\n",
    "</div>\n"
   ]
  },
  {
   "cell_type": "markdown",
   "id": "c9bde41b-76b4-4978-b798-0b37d0a2df76",
   "metadata": {},
   "source": [
    "<div>\n",
    "    <img src='pics/streamlit2.png' width=\"50%\" height=\"auto\" style=\"max-height: 500px;\">\n",
    "</div>\n"
   ]
  },
  {
   "cell_type": "markdown",
   "id": "a0e8bc24-3a92-41c1-b20a-911b14c5ebe1",
   "metadata": {},
   "source": [
    "<div>\n",
    "    <img src='pics/streamlit3.png' width=\"50%\" height=\"auto\" style=\"max-height: 500px;\">\n",
    "</div>\n"
   ]
  },
  {
   "cell_type": "markdown",
   "id": "09c55e4f-f1c0-43da-aa0f-418eec2c9fdb",
   "metadata": {},
   "source": [
    "<div>\n",
    "    <img src='pics/streamlit4.png' width=\"50%\" height=\"auto\" style=\"max-height: 500px;\">\n",
    "</div>\n"
   ]
  },
  {
   "cell_type": "markdown",
   "id": "faed4775-fe8e-42ff-a574-dfcb20900b61",
   "metadata": {},
   "source": [
    "<div>\n",
    "<img src='pics/references.png' width=\"100%\", max_height=\"100\">\n",
    "</div>"
   ]
  },
  {
   "cell_type": "markdown",
   "id": "7e0c3625-44e8-40ed-ab83-7e43937ca6b5",
   "metadata": {},
   "source": [
    " - Anime Dataset 2023. kaggle.com. Retrieved from https://www.kaggle.com/datasets/dbdmobile/myanimelist-dataset\n",
    " - Hug, N. (2020). Surprise: A Python library for recommender systems. Journal of Open Source Software, 5(52), 2174. https://doi.org/10.21105/joss.02174"
   ]
  }
 ],
 "metadata": {
  "kernelspec": {
   "display_name": "Python 3 (ipykernel)",
   "language": "python",
   "name": "python3"
  },
  "language_info": {
   "codemirror_mode": {
    "name": "ipython",
    "version": 3
   },
   "file_extension": ".py",
   "mimetype": "text/x-python",
   "name": "python",
   "nbconvert_exporter": "python",
   "pygments_lexer": "ipython3",
   "version": "3.10.12"
  }
 },
 "nbformat": 4,
 "nbformat_minor": 5
}
